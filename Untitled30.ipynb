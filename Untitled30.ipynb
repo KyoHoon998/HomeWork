{
  "nbformat": 4,
  "nbformat_minor": 0,
  "metadata": {
    "colab": {
      "name": "Untitled30.ipynb",
      "provenance": [],
      "include_colab_link": true
    },
    "kernelspec": {
      "name": "python3",
      "display_name": "Python 3"
    }
  },
  "cells": [
    {
      "cell_type": "markdown",
      "metadata": {
        "id": "view-in-github",
        "colab_type": "text"
      },
      "source": [
        "<a href=\"https://colab.research.google.com/github/KyoHoon998/HomeWork/blob/master/Untitled30.ipynb\" target=\"_parent\"><img src=\"https://colab.research.google.com/assets/colab-badge.svg\" alt=\"Open In Colab\"/></a>"
      ]
    },
    {
      "cell_type": "code",
      "metadata": {
        "id": "ElpKgCA_YquQ",
        "colab_type": "code",
        "outputId": "4ec9e1b7-a035-4e05-c602-554cc0af9f07",
        "colab": {
          "base_uri": "https://localhost:8080/",
          "height": 297
        }
      },
      "source": [
        "P = 70 #kpa\n",
        "import matplotlib as mpl\n",
        "import matplotlib.pyplot as plt\n",
        "import numpy as np\n",
        "import sympy\n",
        "import math\n",
        "\n",
        "x = np.linspace(0, 1, 100)\n",
        "y = np.linspace(0, 1, 100)\n",
        "y1 = (2.909 * x) / (1+(1.909)*x)\n",
        "y2 = x\n",
        "y3 = 0.575*x + 0.424\n",
        "\n",
        "fig, ax = plt.subplots()\n",
        "\n",
        "\n",
        "ax.plot(x, y1, color=\"blue\")\n",
        "ax.plot(x, y2, color=\"black\")\n",
        "ax.plot(x, y3, color=\"red\" )\n",
        "ax.axvline(x=0.5, color = \"red\")\n",
        "\n",
        "ax.set_xlabel(\"x\")\n",
        "ax.set_ylabel(\"y\")\n",
        "\n",
        "\n",
        "\n",
        "ax.legend(); "
      ],
      "execution_count": 4,
      "outputs": [
        {
          "output_type": "stream",
          "text": [
            "No handles with labels found to put in legend.\n"
          ],
          "name": "stderr"
        },
        {
          "output_type": "display_data",
          "data": {
            "image/png": "[encoded data removed]",
            "text/plain": [
              "<Figure size 432x288 with 1 Axes>"
            ]
          },
          "metadata": {
            "tags": []
          }
        }
      ]
    },
    {
      "cell_type": "code",
      "metadata": {
        "id": "612K0fWbYtz2",
        "colab_type": "code",
        "colab": {}
      },
      "source": [
        ""
      ],
      "execution_count": 0,
      "outputs": []
    },
    {
      "cell_type": "code",
      "metadata": {
        "id": "5wDr2NFyqT1T",
        "colab_type": "code",
        "outputId": "8ff2e24a-b75b-4c36-f71e-53f623027925",
        "colab": {
          "base_uri": "https://localhost:8080/",
          "height": 388
        }
      },
      "source": [
        "import sys\n",
        "from daetools.pyDAE import *\n",
        "from time import localtime, strftime\n",
        "# Standard variable types are defined in variable_types.py\n",
        "from pyUnits import m, kg, s, K, Pa, mol, J, W, kJ, hour, l, min\n",
        "\n",
        "class modTutorial(daeModel):\n",
        "    def __init__(self, Name, Parent = None, Description = \"\"):\n",
        "        daeModel.__init__(self, Name, Parent, Description)\n",
        "        # Domains\n",
        "        self.Nt = daeDomain(\"N_t\", self, unit(), \"Number of trays\")\n",
        "        \n",
        "        # Parameters\n",
        "        self.Ntrays   = daeParameter(\"N_trays\",       unit(), self, \"Number of trays\")\n",
        "        self.FeedTray = daeParameter(\"FeedTray\",      unit(), self, \"Feed tray\")\n",
        "        self.RR       = daeParameter(\"RR\",            unit(), self, \"Reflux ratio\")\n",
        "        self.F        = daeParameter(\"F\",             mol/s,  self, \"Feed flowrate\")\n",
        "        self.xf       = daeParameter(\"xf\",            unit(), self, \"Mole fraction of feed\")\n",
        "        self.alpha    = daeParameter(\"&alpha;\",       unit(), self, \"Relative volatility\")\n",
        "        self.Atray    = daeParameter(\"Atray\",         mol,    self, \"Total molar holdup on each tray\")\n",
        "        self.Acond    = daeParameter(\"Acond\",         mol,    self, \"Total molar holdup in the condenser\")\n",
        "        self.Areb     = daeParameter(\"Areb\",          mol,    self, \"Total molar holdup in the reboiler\")\n",
        "\n",
        "        # Variables\n",
        "        self.x  = daeVariable(\"x\", no_t, self, \"Liquid fraction of component A\")\n",
        "        self.x.DistributeOnDomain(self.Nt)\n",
        "        \n",
        "        self.y  = daeVariable(\"y\", no_t, self, \"Vapour fraction of component A\")\n",
        "        self.y.DistributeOnDomain(self.Nt)\n",
        "        \n",
        "        self.D  = daeVariable(\"D\",   molar_flowrate_t, self, \"Distillate flowrate\")\n",
        "        self.L1 = daeVariable(\"L1\",  molar_flowrate_t, self, \"Liquid flowrate in the rectification section\")\n",
        "        self.V  = daeVariable(\"V\",   molar_flowrate_t, self, \"Vapour flowrate\")\n",
        "        self.L2 = daeVariable(\"L2\",  molar_flowrate_t, self, \"Liquid flowrate in the stripping section\")\n",
        "\n",
        "    def DeclareEquations(self):\n",
        "        FeedTray = int(self.FeedTray.GetValue())\n",
        "        Ntrays   = self.Nt.NumberOfPoints\n",
        "        #print(FeedTray, Ntrays)\n",
        "        \n",
        "        eq = self.CreateEquation(\"Condenser\", \"\")\n",
        "        eq.Residual = self.Acond() * self.x.dt(0) - ( self.V() * (self.y(1) - self.x(0)) )\n",
        "        \n",
        "        eq = self.CreateEquation(\"RectificationSection\", \"\")\n",
        "        tr = list(range(1, FeedTray)) # [1, 2, ..., FeedTray-1]\n",
        "        t = eq.DistributeOnDomain(self.Nt, tr)\n",
        "        eq.Residual = self.Atray() * self.x.dt(t) - (  self.L1() * (self.x(t-1) - self.x(t)) \\\n",
        "                                                     - self.V()  * (self.y(t) - self.y(t+1)) )\n",
        "\n",
        "        eq = self.CreateEquation(\"FeedTray\", \"\")\n",
        "        eq.Residual = self.Atray() * self.x.dt(FeedTray) - ( \\\n",
        "                                                            self.F()  * self.xf() + \\\n",
        "                                                            self.L1() * self.x(FeedTray-1) - \\\n",
        "                                                            self.L2() * self.x(FeedTray) - \\\n",
        "                                                            self.V()  * (self.y(FeedTray) - self.y(FeedTray+1)) \\\n",
        "                                                           )\n",
        "\n",
        "        eq = self.CreateEquation(\"StrippingSection\", \"\")\n",
        "        tr = list(range(FeedTray+1, Ntrays-1)) # [FeedTray, FeedTray+1, ..., Ntrays]\n",
        "        t = eq.DistributeOnDomain(self.Nt, tr)\n",
        "        eq.Residual = self.Atray() * self.x.dt(t) - ( self.L2() * (self.x(t-1) - self.x(t)) - \\\n",
        "                                                      self.V()  * (self.y(t)   - self.y(t+1)) )\n",
        "\n",
        "        eq = self.CreateEquation(\"Reboiler\", \"\")\n",
        "        eq.Residual = self.Areb() * self.x.dt(Ntrays-1) - ( self.L2()            * self.x(Ntrays-2) - \\\n",
        "                                                           (self.F() - self.D()) * self.x(Ntrays-1) - \\\n",
        "                                                            self.V()             * self.y(Ntrays-1) )\n",
        "\n",
        "        eq = self.CreateEquation(\"D\", \"\")\n",
        "        eq.Residual = self.D() - 0.5 * self.F()\n",
        "\n",
        "        eq = self.CreateEquation(\"L1\", \"\")\n",
        "        eq.Residual = self.L1() - self.RR() * self.D()\n",
        "\n",
        "        eq = self.CreateEquation(\"V\", \"\")\n",
        "        eq.Residual = self.V() - (self.L1() + self.D())\n",
        "\n",
        "        eq = self.CreateEquation(\"L2\", \"\")\n",
        "        eq.Residual = self.L2() - (self.F() + self.L1())\n",
        "\n",
        "        eq = self.CreateEquation(\"y\", \"\")\n",
        "        t = eq.DistributeOnDomain(self.Nt, eClosedClosed)\n",
        "        eq.Residual = self.y(t) - ( self.x(t) * self.alpha() / (1 + (self.alpha() - 1) * self.x(t)) )\n",
        "\n",
        "class simTutorial(daeSimulation):\n",
        "    def __init__(self):\n",
        "        daeSimulation.__init__(self)\n",
        "        self.m = modTutorial(\"tutorial_che_2\")\n",
        "        self.m.Description = __doc__\n",
        "\n",
        "    def SetUpParametersAndDomains(self):\n",
        "        self.m.FeedTray.SetValue(16)\n",
        "        self.m.Ntrays.SetValue(32)\n",
        "        self.m.Nt.CreateArray(int(self.m.Ntrays.GetValue()))\n",
        "        self.m.RR.SetValue(3.0)\n",
        "        self.m.F.SetValue(2.0 * mol/min)\n",
        "        self.m.xf.SetValue(0.5)\n",
        "        self.m.alpha.SetValue(1.6)\n",
        "        self.m.Atray.SetValue(0.25 * mol)\n",
        "        self.m.Acond.SetValue(0.5 * mol)\n",
        "        self.m.Areb.SetValue(0.1 * mol)\n",
        "\n",
        "    def SetUpVariables(self):\n",
        "        for t in range(0, self.m.Nt.NumberOfPoints):\n",
        "            self.m.x.SetInitialCondition(t, 0.3)\n",
        "\n",
        "def run(**kwargs):\n",
        "    simulation = simTutorial()\n",
        "    return daeActivity.simulate(simulation, reportingInterval = 2*60,   # 2 min\n",
        "                                            timeHorizon       = 120*60, # 120 min\n",
        "                                            **kwargs)\n",
        "\n",
        "if __name__ == \"__main__\":\n",
        "    guiRun = False if (len(sys.argv) > 1 and sys.argv[1] == 'console') else True\n",
        "    run(guiRun = guiRun)"
      ],
      "execution_count": 0,
      "outputs": [
        {
          "output_type": "error",
          "ename": "ModuleNotFoundError",
          "evalue": "ignored",
          "traceback": [
            "\u001b[0;31m---------------------------------------------------------------------------\u001b[0m",
            "\u001b[0;31mModuleNotFoundError\u001b[0m                       Traceback (most recent call last)",
            "\u001b[0;32m<ipython-input-50-bf5ef9ee8358>\u001b[0m in \u001b[0;36m<module>\u001b[0;34m()\u001b[0m\n\u001b[1;32m      1\u001b[0m \u001b[0;32mimport\u001b[0m \u001b[0msys\u001b[0m\u001b[0;34m\u001b[0m\u001b[0;34m\u001b[0m\u001b[0m\n\u001b[0;32m----> 2\u001b[0;31m \u001b[0;32mfrom\u001b[0m \u001b[0mdaetools\u001b[0m\u001b[0;34m.\u001b[0m\u001b[0mpyDAE\u001b[0m \u001b[0;32mimport\u001b[0m \u001b[0;34m*\u001b[0m\u001b[0;34m\u001b[0m\u001b[0;34m\u001b[0m\u001b[0m\n\u001b[0m\u001b[1;32m      3\u001b[0m \u001b[0;32mfrom\u001b[0m \u001b[0mtime\u001b[0m \u001b[0;32mimport\u001b[0m \u001b[0mlocaltime\u001b[0m\u001b[0;34m,\u001b[0m \u001b[0mstrftime\u001b[0m\u001b[0;34m\u001b[0m\u001b[0;34m\u001b[0m\u001b[0m\n\u001b[1;32m      4\u001b[0m \u001b[0;31m# Standard variable types are defined in variable_types.py\u001b[0m\u001b[0;34m\u001b[0m\u001b[0;34m\u001b[0m\u001b[0;34m\u001b[0m\u001b[0m\n\u001b[1;32m      5\u001b[0m \u001b[0;32mfrom\u001b[0m \u001b[0mpyUnits\u001b[0m \u001b[0;32mimport\u001b[0m \u001b[0mm\u001b[0m\u001b[0;34m,\u001b[0m \u001b[0mkg\u001b[0m\u001b[0;34m,\u001b[0m \u001b[0ms\u001b[0m\u001b[0;34m,\u001b[0m \u001b[0mK\u001b[0m\u001b[0;34m,\u001b[0m \u001b[0mPa\u001b[0m\u001b[0;34m,\u001b[0m \u001b[0mmol\u001b[0m\u001b[0;34m,\u001b[0m \u001b[0mJ\u001b[0m\u001b[0;34m,\u001b[0m \u001b[0mW\u001b[0m\u001b[0;34m,\u001b[0m \u001b[0mkJ\u001b[0m\u001b[0;34m,\u001b[0m \u001b[0mhour\u001b[0m\u001b[0;34m,\u001b[0m \u001b[0ml\u001b[0m\u001b[0;34m,\u001b[0m \u001b[0mmin\u001b[0m\u001b[0;34m\u001b[0m\u001b[0;34m\u001b[0m\u001b[0m\n",
            "\u001b[0;31mModuleNotFoundError\u001b[0m: No module named 'daetools'",
            "",
            "\u001b[0;31m---------------------------------------------------------------------------\u001b[0;32m\nNOTE: If your import is failing due to a missing package, you can\nmanually install dependencies using either !pip or !apt.\n\nTo view examples of installing some common dependencies, click the\n\"Open Examples\" button below.\n\u001b[0;31m---------------------------------------------------------------------------\u001b[0m\n"
          ]
        }
      ]
    },
    {
      "cell_type": "code",
      "metadata": {
        "id": "dejwaw0iqU16",
        "colab_type": "code",
        "colab": {}
      },
      "source": [
        ""
      ],
      "execution_count": 0,
      "outputs": []
    }
  ]
}