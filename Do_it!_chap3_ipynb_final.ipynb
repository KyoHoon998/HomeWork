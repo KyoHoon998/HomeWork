{
  "nbformat": 4,
  "nbformat_minor": 0,
  "metadata": {
    "colab": {
      "name": "Do it! 정직하게 코딩하며 배우는 딥러닝 입문 3장.ipynb의 사본",
      "provenance": []
    },
    "kernelspec": {
      "name": "python3",
      "display_name": "Python 3"
    }
  },
  "cells": [
    {
      "cell_type": "markdown",
      "metadata": {
        "id": "MyhEGjUPTViu",
        "colab_type": "text"
      },
      "source": [
        "#**3장. 수치 예측**\n",
        "\n",
        "---\n",
        "\n",
        "#**3-1. 선형 회귀**\n",
        "\n",
        "선형회귀(Linear Regression)은 기울기와 절편을 찾아냅니다. 즉 선형 회귀의 주요 관심사는 '절편과 기울기를 찾는 것'입니다. \n",
        "\n",
        "예) $x$가 3일때 $y$는 25, $x$가 4일때 $y$는 32, $x$가 5일 때 $y$가 39라면 기울기와 절편의 값으로 적절한 것은?\n",
        "답은 기울기는 7 절편은 4\n",
        "\n",
        "각 점을 따라 만든 1차 함수를 '선형 회귀로 만든 모델'이라고 한다. 이것을 바탕으로 새로운 점에 대한 예측을 할 수 있다. "
      ]
    },
    {
      "cell_type": "markdown",
      "metadata": {
        "id": "c3ycgk4AU8La",
        "colab_type": "text"
      },
      "source": [
        "# **문제 해결을 위해 당뇨병 환자의 데이터 준비하기**\n",
        "\n",
        "목표는 '당뇨병 혼자의 1년 후 병의 진전된 정도를 예측하는 모델을 만드는 것'\n",
        "\n",
        "문제를 해결하기 위해서 충분한 양의 입력 데이터와 타깃 데이터를 준비해야 함.\n",
        "\n",
        "\n",
        "**사이킷런에서 당뇨병 환자 데이터 가져오기**\n",
        "\n",
        "머신러닝, 딥러닝 패키지에는 인공지능학습을 위한 데이터 세트가 준비되어있음\n",
        "\n",
        "사이킷 런의 데이터 세트 중 당뇨병 환자의 데이터 세트를 사용"
      ]
    },
    {
      "cell_type": "markdown",
      "metadata": {
        "id": "ki8d2UooVYqy",
        "colab_type": "text"
      },
      "source": [
        "**1. load_diabetes()함수로 당뇨병 데이터 준비하기**\n",
        "\n",
        "사이킷런의 datasets 모듈에 있는 load_diabetes()함수를 임포트한 후 매개변수 값을 넣지 않은 채로 함수를 호출하면 diabeetes에 당뇨병 데이터가 저장됨."
      ]
    },
    {
      "cell_type": "code",
      "metadata": {
        "id": "oznNDdueUTvx",
        "colab_type": "code",
        "colab": {}
      },
      "source": [
        "from sklearn.datasets import load_diabetes\n",
        "diabetes = load_diabetes()"
      ],
      "execution_count": 0,
      "outputs": []
    },
    {
      "cell_type": "markdown",
      "metadata": {
        "id": "OmoqougAU7fq",
        "colab_type": "text"
      },
      "source": [
        "**입력과 타깃 데이터의 크기 확인하기**\n",
        "\n",
        "diabetes의 속성 중 data 속성과 target 속성에는 우리에게 필요한 입력과 타깃 데이터가 넘파이 배열로 저장되어 있음. 넘파이 배열의 크기는 shape 속성에 저장되어 있으므로 다음과 같이 shape 속성을 출력하여 입력 데이터와 타깃 데이터의 크기를 확인.\n"
      ]
    },
    {
      "cell_type": "code",
      "metadata": {
        "id": "yyAQtiPRV-CH",
        "colab_type": "code",
        "outputId": "d7ffbc7a-2da9-445c-9783-d4d4ea62726f",
        "colab": {
          "base_uri": "https://localhost:8080/",
          "height": 35
        }
      },
      "source": [
        "print(diabetes.data.shape, diabetes.target.shape)"
      ],
      "execution_count": 0,
      "outputs": [
        {
          "output_type": "stream",
          "text": [
            "(442, 10) (442,)\n"
          ],
          "name": "stdout"
        }
      ]
    },
    {
      "cell_type": "markdown",
      "metadata": {
        "id": "rU2RVYIIWN51",
        "colab_type": "text"
      },
      "source": [
        "data는 442*10 크기의 2차원 배열이고 target은 442개의 요소를 가진 1차원 배열임.\n",
        "diabetes.data는 442개의 행과 10개의 열로 구성되어 있는데, 여기서 행은 샘플(sample)이고, 열은 샘플의 특성(feature)임.\n",
        "\n",
        "샘플이란 당뇨병 환자에 대한 특성으로 이루어진 데이터 1세트이고, 특성은 당뇨병 데이터의 여러 특징들을 의미.\n",
        "이 때, 입력 데이터의 특성은 다른 말로 속성, 독립 변수(independent variable), 설명 변수(explanatory variable) 등으로 호칭. 머신러닝에서는 널리 통용되는 '특성'으로 칭하기로 함.\n",
        "\n",
        "\n",
        "\n",
        "**입력 데이터 자세히 보기**\n",
        "\n",
        "diabetes.data에 저장된 입력 데이터를 일부만 출력. 슬라이싱을 사용"
      ]
    },
    {
      "cell_type": "code",
      "metadata": {
        "id": "I2HRPmTtWE6B",
        "colab_type": "code",
        "outputId": "88478aa9-30da-40ae-f59c-d28d8d9e5730",
        "colab": {
          "base_uri": "https://localhost:8080/",
          "height": 126
        }
      },
      "source": [
        "diabetes.data[0:3]"
      ],
      "execution_count": 0,
      "outputs": [
        {
          "output_type": "execute_result",
          "data": {
            "text/plain": [
              "array([[ 0.03807591,  0.05068012,  0.06169621,  0.02187235, -0.0442235 ,\n",
              "        -0.03482076, -0.04340085, -0.00259226,  0.01990842, -0.01764613],\n",
              "       [-0.00188202, -0.04464164, -0.05147406, -0.02632783, -0.00844872,\n",
              "        -0.01916334,  0.07441156, -0.03949338, -0.06832974, -0.09220405],\n",
              "       [ 0.08529891,  0.05068012,  0.04445121, -0.00567061, -0.04559945,\n",
              "        -0.03419447, -0.03235593, -0.00259226,  0.00286377, -0.02593034]])"
            ]
          },
          "metadata": {
            "tags": []
          },
          "execution_count": 4
        }
      ]
    },
    {
      "cell_type": "markdown",
      "metadata": {
        "id": "2W52rKh5XPGY",
        "colab_type": "text"
      },
      "source": [
        "안쪽 대괄호에는 특성의 값 10개가 나열되게 되는데, 3개의 샘플을 추출했으므로 3*10크기의 배열이 나타남."
      ]
    },
    {
      "cell_type": "markdown",
      "metadata": {
        "id": "QH9ehNE0XXgO",
        "colab_type": "text"
      },
      "source": [
        "**4. 타깃 데이터 자세히 보기**\n",
        "\n",
        "타깃데이터를 출력해 보는데, 이 때 배열의 첫 번째 요소부터 추출한다면 첫 번째 인덱스는 생략해도 무관. "
      ]
    },
    {
      "cell_type": "code",
      "metadata": {
        "id": "3WsLI7Vzin7N",
        "colab_type": "code",
        "colab": {}
      },
      "source": [
        ""
      ],
      "execution_count": 0,
      "outputs": []
    },
    {
      "cell_type": "code",
      "metadata": {
        "id": "BRaveL7mXJht",
        "colab_type": "code",
        "outputId": "a87b5505-65ee-4fec-95be-29f13d66f9b8",
        "colab": {
          "base_uri": "https://localhost:8080/",
          "height": 35
        }
      },
      "source": [
        "diabetes.target[0:3]"
      ],
      "execution_count": 0,
      "outputs": [
        {
          "output_type": "execute_result",
          "data": {
            "text/plain": [
              "array([151.,  75., 141.])"
            ]
          },
          "metadata": {
            "tags": []
          },
          "execution_count": 5
        }
      ]
    },
    {
      "cell_type": "markdown",
      "metadata": {
        "id": "nSs3cEQ_XoYN",
        "colab_type": "text"
      },
      "source": [
        "타깃 데이터는 10개의 요소로 구성된 샘플 1개에 대응. 슬라이싱한 입력 데이터의 첫 번재 샘플은 151.이라는 타깃 데이터에 대응함. 여기서 수치 자체에 대한 해석은 전문가의 영역이기에 불필요함. 입력 데이터와 타깃 데이터의 수치만 보고 둘 사이의 규칙만 찾으면 됨. "
      ]
    },
    {
      "cell_type": "markdown",
      "metadata": {
        "id": "hHJwOCt1YKYq",
        "colab_type": "text"
      },
      "source": [
        "# **당뇨병 환자 데이터 시각화하기**\n",
        "\n",
        "입력 데이터와 타깃 데이터의 관계를 눈으로 확인하기 위해 데이터를 시각화."
      ]
    },
    {
      "cell_type": "markdown",
      "metadata": {
        "id": "cXQUlUuBYS7V",
        "colab_type": "text"
      },
      "source": [
        "**1. 맷플롯립의 SCATTER() 함수로 산점도 그리기**\n",
        "\n",
        "당뇨병 데이터 세트에는 10개의 특성이 있었는데, 이 특성을 모두 표현하려면 3차원 이상의 그래프를 그려하 함. 3차원 이상의 그래프를 그리는 것은 불가능하므로 1개의 특성만 사용."
      ]
    },
    {
      "cell_type": "code",
      "metadata": {
        "id": "7nH3KFpqXl7X",
        "colab_type": "code",
        "outputId": "c65b375d-90f6-42fe-82cb-8007cb461879",
        "colab": {
          "base_uri": "https://localhost:8080/",
          "height": 279
        }
      },
      "source": [
        "import matplotlib.pyplot as plt\n",
        "plt.scatter(diabetes.data[:, 2], diabetes.target)\n",
        "plt.xlabel('x')\n",
        "plt.ylabel('y')\n",
        "plt.show()"
      ],
      "execution_count": 0,
      "outputs": [
        {
          "output_type": "display_data",
          "data": {
            "image/png": "[encoded data removed]",
            "text/plain": [
              "<Figure size 432x288 with 1 Axes>"
            ]
          },
          "metadata": {
            "tags": []
          }
        }
      ]
    },
    {
      "cell_type": "markdown",
      "metadata": {
        "id": "Q1nXneJSZCLc",
        "colab_type": "text"
      },
      "source": [
        "그래프의 $x$축은 diabetes.data의 세 번째 특성이고, $y$축은 diabetes.target 이다. 그래프에서 세 번째 특성과 타깃 데이터 사이에 정비례 관계가 있음을 알 수 있음."
      ]
    },
    {
      "cell_type": "markdown",
      "metadata": {
        "id": "P2uTMv_GZPPB",
        "colab_type": "text"
      },
      "source": [
        "**2. 훈련 데이터 준비**\n",
        "\n",
        "매번 diabetes.data를 입력하여 입력 데이터의 속성을 참고하는 방법은 매우 번거로움. 따라서 입력 데이터의 세 번째 특성(입력 데이터)을 미리 분리하여 변수 $x$에 저장하고 타깃 데이터는 변수 $y$에 저장. "
      ]
    },
    {
      "cell_type": "code",
      "metadata": {
        "id": "UgUcUrAVY6d2",
        "colab_type": "code",
        "colab": {}
      },
      "source": [
        "x = diabetes.data[:, 2]\n",
        "y = diabetes.target"
      ],
      "execution_count": 0,
      "outputs": []
    },
    {
      "cell_type": "markdown",
      "metadata": {
        "id": "R6bjqHH5aAVL",
        "colab_type": "text"
      },
      "source": [
        "# **3-2 경사 하강법으로 학습하는 방법**\n",
        "\n",
        "**선형 회귀와 경사 하강법의 관계**\n",
        "\n",
        "선형 회귀의 목표는 입력 데이터($x$)와 타깃 데이터($y$)를 통해 기울기($a$)와 절편($b$)을 찾는 것. 즉, 산점도 그래프를 잘 표현하는 직선의 방정식을 찾는 것이 회귀 알고리즘의 목표.\n",
        "\n",
        "\n",
        "경사 하강법은 그 방법 중의 하나. 경사 하강법은 모델이 데이터를 잘 표현할 수 있도록 기울기(별화율)를 사용하여 모델을 조금씩 조정하는 최적화 알고리즘."
      ]
    },
    {
      "cell_type": "markdown",
      "metadata": {
        "id": "dpWW7UQplM1d",
        "colab_type": "text"
      },
      "source": [
        "**예측값이란?**\n",
        "\n",
        "입력과 출력 데이터(x, y)를 통해 규칙(a, b)를 발견하면 모델을 만들었다고 함. 그 모델에 대해 새로운 입력값을 넣어서 나오는 출력값이 모델을 통해 예측한 값. 여기서 $\\widehat{y}$은 타깃 데이터를 표현하는 y라는 문자와 구분하기 위해서 사용. "
      ]
    },
    {
      "cell_type": "markdown",
      "metadata": {
        "id": "P8UhwiWGn0_o",
        "colab_type": "text"
      },
      "source": [
        "**예측값과 변화율**\n",
        "\n",
        "딥러닝 분야에서는 기울기 $a$를 종종 가중치를 의미하는 $w$나 계수를 표현하는 $\\theta$로 표기. 그리고 $y$는 $\\widehat{y}$으로 표기하며 읽을 때는 와이-햇 (y-hat)이라고 읽음. 앞으로는 $y$=$ax$+$b$로 알고 있던 모델을 $\\widehat{y}$ = $wx$+$b$로 표기함. 여기서 가중치 $w$와 절편 $b$는 알고리즘이 찾은 규칙을 의미하고, $\\widehat{y}$은 우리가 예측한 값을 의미.\n"
      ]
    },
    {
      "cell_type": "markdown",
      "metadata": {
        "id": "ZtfrxNRjn4nn",
        "colab_type": "text"
      },
      "source": [
        ""
      ]
    },
    {
      "cell_type": "code",
      "metadata": {
        "id": "qItVoDH_n4Qz",
        "colab_type": "code",
        "colab": {}
      },
      "source": [
        ""
      ],
      "execution_count": 0,
      "outputs": []
    },
    {
      "cell_type": "markdown",
      "metadata": {
        "id": "McFfvYBynwyz",
        "colab_type": "text"
      },
      "source": [
        "#**예측값으로 올바른 모델 찾기**\n",
        "\n",
        "**훈련 데이터에 잘 맞는 w와 b를 찾는 방법**\n",
        "\n",
        "① 무작위로 w와 b를 정함(무작위로 모델 만들기)\n",
        "\n",
        "② x에서 샘플 하나를 선택하여 $\\widehat{y}$을 계산(무작위로 모델 예측하기)\n",
        "\n",
        "③ $\\widehat{y}$과 선택한 샘플의 진짜 y를 비교.(예측한 값과 진짜 답 비교하기, 틀릴 확룔 (99%)\n",
        "\n",
        "④ $\\widehat{y}$이 y와 더 가까워지도록 w, b를 조정.(모델 조정하기)\n",
        "\n",
        "⑤ 모든 샘플을 처리할 때까지 다시 ②~④ 항목을 반복.\n",
        "\n",
        "위의 방법은 아주 직관적이나 모델이 복잡할수록 체계적인 방법이 필요함. "
      ]
    },
    {
      "cell_type": "markdown",
      "metadata": {
        "id": "Rp1eyilMnxaa",
        "colab_type": "text"
      },
      "source": [
        "#**훈련 데이터에 맞는 w와 b 찾아보기**\n",
        "\n",
        "**1. w와 b 초기화하기**\n",
        "\n",
        "아직 w와 b를 어떻게 초기화할지 규칙을 정하지 않았으므로 임시 규칙을 정함"
      ]
    },
    {
      "cell_type": "code",
      "metadata": {
        "id": "67CizO5Wt6bk",
        "colab_type": "code",
        "colab": {}
      },
      "source": [
        "w = 1.0\n",
        "b = 1.0"
      ],
      "execution_count": 0,
      "outputs": []
    },
    {
      "cell_type": "markdown",
      "metadata": {
        "id": "nNu8s8oruHbo",
        "colab_type": "text"
      },
      "source": [
        "**2. 훈련 데이터의 첫 번째 샘플 데이터로 $\\widehat{y}$ 얻기**\n",
        "\n",
        "임시로 만든 모델로 훈련 데이터의 첫 번 째 샘플 x[0]에 대한 $\\widehat{y}$을 계산. 계산한 $\\widehat{y}$은 y_hat 변수에 저장\n"
      ]
    },
    {
      "cell_type": "code",
      "metadata": {
        "id": "hfht7Hx_uGUF",
        "colab_type": "code",
        "outputId": "3bc0d658-bc0a-44ab-9e86-19b40b80384b",
        "colab": {
          "base_uri": "https://localhost:8080/",
          "height": 35
        }
      },
      "source": [
        "y_hat = x[0] * w + b\n",
        "print(y_hat)"
      ],
      "execution_count": 0,
      "outputs": [
        {
          "output_type": "stream",
          "text": [
            "1.0616962065186886\n"
          ],
          "name": "stdout"
        }
      ]
    },
    {
      "cell_type": "markdown",
      "metadata": {
        "id": "pX7xFMcOxw9u",
        "colab_type": "text"
      },
      "source": [
        "**3. 타깃과 예측 데이터 비교하기**\n",
        "\n",
        "첫 번째 샘플 x[0]에 대응하는 타깃값 y[0]을 출력하여 y_hat 값과 비교"
      ]
    },
    {
      "cell_type": "code",
      "metadata": {
        "id": "irNNCLZsubrj",
        "colab_type": "code",
        "outputId": "47b6dbc7-564e-4c4b-b159-bbbb1068cca9",
        "colab": {
          "base_uri": "https://localhost:8080/",
          "height": 35
        }
      },
      "source": [
        "print(y[0])"
      ],
      "execution_count": 0,
      "outputs": [
        {
          "output_type": "stream",
          "text": [
            "151.0\n"
          ],
          "name": "stdout"
        }
      ]
    },
    {
      "cell_type": "markdown",
      "metadata": {
        "id": "VTbAp2iix8P0",
        "colab_type": "text"
      },
      "source": [
        "**4. w 값 조절해 예측값 바꾸기**\n",
        "\n",
        "y_hat 값은 1.06으로 예측했으나 타깃은 151.0이므로 차이가 매우 큼.\n",
        "\n",
        "w와 b를 무작위 값으로 정했기 때문에 차이가 매우 큰 것.\n",
        "\n",
        "w와 b를 조금씩 변경해서 y_hat의 증감을 살표보고 y_hat이 y[0]이 가까워 질 수 있도록 해야함.\n",
        "\n",
        "먼저 w를 0.1만큼 증가시키고 관찰"
      ]
    },
    {
      "cell_type": "code",
      "metadata": {
        "id": "apXaRc9DxuI1",
        "colab_type": "code",
        "outputId": "e29f5117-689c-4d10-c913-d8e4356d8299",
        "colab": {
          "base_uri": "https://localhost:8080/",
          "height": 35
        }
      },
      "source": [
        "w_inc = w + 0.1\n",
        "y_hat_inc = x[0] * w_inc + b\n",
        "print(y_hat_inc)"
      ],
      "execution_count": 0,
      "outputs": [
        {
          "output_type": "stream",
          "text": [
            "1.0678658271705574\n"
          ],
          "name": "stdout"
        }
      ]
    },
    {
      "cell_type": "markdown",
      "metadata": {
        "id": "rICNH9lmyu7g",
        "colab_type": "text"
      },
      "source": [
        "w값을 0.1만큼 증가시킨 다음 값을 다시 예측하여 y_hat_inc에 저장. 저장한 값은 y_hat보다 증가한 것을 확인."
      ]
    },
    {
      "cell_type": "markdown",
      "metadata": {
        "id": "aoZAn-tjy4Hm",
        "colab_type": "text"
      },
      "source": [
        "**5. w 값 조정한 후 예측값 증가 정도 확인**\n",
        "\n",
        "w가 0.1만큼 증가했을 때 y_hat이 얼마나 증가했는지 계산해 보려면 y_hat이 증가한 양을 w가 증가한 양으로 나누어 보면 됨."
      ]
    },
    {
      "cell_type": "code",
      "metadata": {
        "id": "UxMbw5keysby",
        "colab_type": "code",
        "outputId": "a602c5b0-b7c0-45af-8519-04a8bafe73e6",
        "colab": {
          "base_uri": "https://localhost:8080/",
          "height": 35
        }
      },
      "source": [
        "w_rate = (y_hat_inc - y_hat) / ( w_inc - w)\n",
        "print(w_rate)"
      ],
      "execution_count": 0,
      "outputs": [
        {
          "output_type": "stream",
          "text": [
            "0.061696206518688734\n"
          ],
          "name": "stdout"
        }
      ]
    },
    {
      "cell_type": "markdown",
      "metadata": {
        "id": "KwxIqdjUzYND",
        "colab_type": "text"
      },
      "source": [
        "첫 번째 훈련 데이터 x[0]에 대한 w의 변화율은 훈련 데이터의 첫 번째 샘플인 x[0].\n",
        "\n",
        "위의 경우 y_hat의 값은 y 보다 작으므로 y_hat의 값을 증가시켜야 함.\n",
        "\n",
        "이때 변화율은 양수이므로 w 값을 증가시키면 y_hat의 값을 증가시킬 수 있고, 변화율이 음수일 때 y_hat의 값을 증가시키려면 w값을 감소시키면 됨. 하지만 이런 방법은 변화율이 양수일떄와 음수일 때를 구분해야 하므로 매우 번거로움. \n",
        "\n",
        "따라서 이 문제를 효율적으로 해결하는 방법이 바로 변화율 그 자체."
      ]
    },
    {
      "cell_type": "markdown",
      "metadata": {
        "id": "M3a3n9Bd0J_l",
        "colab_type": "text"
      },
      "source": [
        "#**변화율로 가중치 업데이트하기**\n",
        "\n",
        "선형 회귀의 목표는 y에 가까운 $\\widehat{y}$을 출력하는 모델을 찾아내는것.\n",
        "따라서 x와 y의 방정식이 아닌 w와 $\\widehat{y}$에 대한 방정식을 사용함. 먼저 w와 b를 변화율로 업데이트 해야 함."
      ]
    },
    {
      "cell_type": "markdown",
      "metadata": {
        "id": "pLl1qzY30oIq",
        "colab_type": "text"
      },
      "source": [
        "**변화율이 양수일 때 가중치를 업데이트 하는 방법**\n",
        "\n",
        "변화율이 0보다 클 때, w가 증가하면 y_hat도 증가. 이 때 변화율이 양수인 점을 이용하여 변화율을 w에 더하는 방법으로 w를 증가시킬 수 있음.\n",
        "\n",
        "**변화율이 음수일 때 가중치를 업데이트 하는 방법**\n",
        "\n",
        "변화율이 0보다 작을 때, w가 증가하면 y_hat은 감소. 따라서 변화율이 음수인 점을 이용하여 변화율을 더하는 방법으로 y-hat의 값을 증가시킬 수 있음. w에 w_rate를 더하면 됨. 가중치 w를 업데이트 하는 방법은 두 경우 모두 w + w_rate. "
      ]
    },
    {
      "cell_type": "code",
      "metadata": {
        "id": "LEH6sQ4mzRqC",
        "colab_type": "code",
        "outputId": "f3a7bd6f-95bd-4387-9a1c-1172a7960081",
        "colab": {
          "base_uri": "https://localhost:8080/",
          "height": 35
        }
      },
      "source": [
        "w_new = w + w_rate\n",
        "print(w_new)"
      ],
      "execution_count": 0,
      "outputs": [
        {
          "output_type": "stream",
          "text": [
            "1.0616962065186888\n"
          ],
          "name": "stdout"
        }
      ]
    },
    {
      "cell_type": "markdown",
      "metadata": {
        "id": "57U3CqoU1Uhc",
        "colab_type": "text"
      },
      "source": [
        "#**변화율로 절편 업데이트하기**\n",
        "\n",
        "절편 b에 대한 변화율을 구한 다음 변화율로 b를 업데이트. b를 0.1만큼 증가시킨 후 y_hat이 얼마나 증가했는지 계산하고 변화율도 계산."
      ]
    },
    {
      "cell_type": "code",
      "metadata": {
        "id": "cfZDqkYn1S2w",
        "colab_type": "code",
        "outputId": "0c36cfbf-de0f-45e0-a8af-142d2fae3f0d",
        "colab": {
          "base_uri": "https://localhost:8080/",
          "height": 35
        }
      },
      "source": [
        "b_inc = b + 0.1\n",
        "y_hat_inc = x[0] * w + b_inc\n",
        "print(y_hat_inc)"
      ],
      "execution_count": 0,
      "outputs": [
        {
          "output_type": "stream",
          "text": [
            "1.1616962065186887\n"
          ],
          "name": "stdout"
        }
      ]
    },
    {
      "cell_type": "code",
      "metadata": {
        "id": "saxJ65nI1qYN",
        "colab_type": "code",
        "outputId": "5ac6fbc7-aeb7-42f3-fc41-ac30c06ee707",
        "colab": {
          "base_uri": "https://localhost:8080/",
          "height": 35
        }
      },
      "source": [
        "b_rate = (y_hat_inc - y_hat) / (b_inc - b)\n",
        "print(b_rate)"
      ],
      "execution_count": 0,
      "outputs": [
        {
          "output_type": "stream",
          "text": [
            "1.0\n"
          ],
          "name": "stdout"
        }
      ]
    },
    {
      "cell_type": "markdown",
      "metadata": {
        "colab_type": "text",
        "id": "0r30oV8Z2Egr"
      },
      "source": [
        "b가 증가한만큼 y_hat도 증가하는데, 1차 함수에서 절편이 1만큼 증가하면 그래프 위치가 y 방향으로 1만큼 올라가므로 이는 예상할 수 있음.\n",
        "\n",
        "즉, b를 업데이트하기 위해서는 변화율이 1이므로 단순히 1을 더하면 됨."
      ]
    },
    {
      "cell_type": "code",
      "metadata": {
        "id": "N24oZHOy2HCE",
        "colab_type": "code",
        "outputId": "0b3aff2c-99aa-4e03-8c08-703e1c05d29b",
        "colab": {
          "base_uri": "https://localhost:8080/",
          "height": 35
        }
      },
      "source": [
        "b_new = b + 1\n",
        "print(b_new)"
      ],
      "execution_count": 0,
      "outputs": [
        {
          "output_type": "stream",
          "text": [
            "2.0\n"
          ],
          "name": "stdout"
        }
      ]
    },
    {
      "cell_type": "markdown",
      "metadata": {
        "id": "PLrCSO8b2VXS",
        "colab_type": "text"
      },
      "source": [
        "위는 y_hat을 증가시켜야 하는 상황을 가정하고 w와 b를 업데이트하는 방법이나, 이 방법이 조금 수동적인 방법인데, 왜냐하면 이 방법이 아래의 상황에 대해 적합하게 대처할 수 없기 때문.\n",
        "\n",
        "● y_hat이 y에 한참 미치지 못 하는 값인 경우, w와 b를 더 큰 폭으로 수정할 수 없음.(변화율만큼 수정을 해도 특별한 기준을 정하기가 어려움)\n",
        "\n",
        "● y_hat이 y보다 커지면 y_hat을 감소시카지 못함.\n",
        "\n",
        "위의 문제를 해결하기 위해서는 w와 b를 더 능동적으로 업데이트 하는 방법인 오차 역전파를 알아야 함.\n"
      ]
    },
    {
      "cell_type": "markdown",
      "metadata": {
        "id": "-yopjrlR3HdL",
        "colab_type": "text"
      },
      "source": [
        "#**오차 역전파로 가중치와 절편을 더 적절하게 업데이트**\n",
        "\n",
        "오차 역전파(backpropagation)는 $\\widehat{y}$와 y의 차이를 이용하여 w와 b를 업데이트함. 이 방법은 오차가 연이어 전파되는 모슴으로 수행됨. \n",
        "\n",
        "**가중치와 절편을 더욱 적절하게 업데이트 하는 방법**\n",
        "\n",
        "y에서 $\\widehat{y}$을 뺀 오차의 양을 변화율에 곱하는 방법으로 w를 업데이트하면 $\\widehat{y}$이 y보다 많이 작은 경우 w와 b를 많이 바꿀 수 있음. 또한 $\\widehat{y}$이 y를 지나치면 w와 b의 방향또한 바꿔줌."
      ]
    },
    {
      "cell_type": "markdown",
      "metadata": {
        "id": "WvoCZx1R3rTr",
        "colab_type": "text"
      },
      "source": [
        "**1. 오차와 변화율을 곱하여 가중치 업데이트**\n",
        "\n",
        "x[0]일 때 w의 변화율과 b의 변화율에 오차를 곱한 다음 업데이트된 w_new와 b_new를 출력해보고, 결괏값을 보면 w와 b가 각각 큰 폭으로 바뀌었음을 알 수 있음."
      ]
    },
    {
      "cell_type": "code",
      "metadata": {
        "id": "ckMrYe2S36QG",
        "colab_type": "code",
        "outputId": "e65d3ba0-c42e-4cda-a3cd-79830c254cac",
        "colab": {
          "base_uri": "https://localhost:8080/",
          "height": 35
        }
      },
      "source": [
        "err = y[0] - y_hat\n",
        "w_new = w + w_rate *err\n",
        "b_new = b +1 * err\n",
        "print(w_new, b_new)"
      ],
      "execution_count": 0,
      "outputs": [
        {
          "output_type": "stream",
          "text": [
            "10.250624555904514 150.9383037934813\n"
          ],
          "name": "stdout"
        }
      ]
    },
    {
      "cell_type": "markdown",
      "metadata": {
        "id": "OJlPI-UK4JV_",
        "colab_type": "text"
      },
      "source": [
        "**2. 두 번째 샘플 x[1]을 사용하여 오차를 구하고 새로운 w와 b를 구함**\n",
        "\n",
        "w_rate 식을 정리했을 때 샘플값과 같아진다는 것을 알았으므로 앞으로 w_rate를 별도로 계산하지 않고 샘플값을 그대로 사용. 즉, 여기서 x[1]이 w_rate가 됨."
      ]
    },
    {
      "cell_type": "code",
      "metadata": {
        "id": "YVqhlwag4GHN",
        "colab_type": "code",
        "outputId": "d2387ab0-a454-4714-b622-f3f3487e74fa",
        "colab": {
          "base_uri": "https://localhost:8080/",
          "height": 35
        }
      },
      "source": [
        "y_hat = x[1] * w_new + b_new\n",
        "err = y[1] - y_hat\n",
        "w_rate = x[1]\n",
        "w_new = w_new + w_rate * err\n",
        "b_new = b_new + 1 * err\n",
        "print(w_new, b_new)"
      ],
      "execution_count": 0,
      "outputs": [
        {
          "output_type": "stream",
          "text": [
            "14.132317616381767 75.52764127612664\n"
          ],
          "name": "stdout"
        }
      ]
    },
    {
      "cell_type": "markdown",
      "metadata": {
        "id": "YWR08QXD4ya9",
        "colab_type": "text"
      },
      "source": [
        "이러한 방식으로 모든 샘플을 사용해 가중치와 절편을 업데이트."
      ]
    },
    {
      "cell_type": "markdown",
      "metadata": {
        "id": "ovqEYKfI48w2",
        "colab_type": "text"
      },
      "source": [
        "**3. 전체 샘플을 반복하기**\n",
        "\n",
        "전체 샘플에 대해 앞의 과정을 반복하는 코드는 다음과 같음."
      ]
    },
    {
      "cell_type": "code",
      "metadata": {
        "id": "kDQ0az4R4wKE",
        "colab_type": "code",
        "outputId": "0ca198cc-e96c-4781-cf7f-c0c8dc7e7c26",
        "colab": {
          "base_uri": "https://localhost:8080/",
          "height": 35
        }
      },
      "source": [
        "for x_i, y_i in zip(x, y):\n",
        "  y_hat = x_i * w + b\n",
        "  err = y_i - y_hat\n",
        "  w_rate = x_i\n",
        "  w = w+ w_rate * err\n",
        "  b = b + 1 * err\n",
        "print(w,b)"
      ],
      "execution_count": 0,
      "outputs": [
        {
          "output_type": "stream",
          "text": [
            "587.8654539985689 99.40935564531424\n"
          ],
          "name": "stdout"
        }
      ]
    },
    {
      "cell_type": "markdown",
      "metadata": {
        "id": "ukXfUTgR5XH2",
        "colab_type": "text"
      },
      "source": [
        "파이썬의 zip()함수는 여러 개의 배열에서 동시에 요소를 하나씩 꺼내줌. 여기서 for문을 사용하고 변수 이름만 달라졌을 뿐, 코드는 이전과 동일. 여기서는 입력 x와 타깃 y 배열에서 요소를 하나씩 꺼내요 err를 계산하고 w와 b를 업데이트."
      ]
    },
    {
      "cell_type": "markdown",
      "metadata": {
        "id": "5M2WhEHF5n_0",
        "colab_type": "text"
      },
      "source": [
        "**4. 과정 3을 통해 얻어낸 모델이 전체 데이터 세트를 잘 표현하는지 그래프를 그려 알아보기**\n",
        "\n",
        "산점도 위에 w와 b를 사용한 직선을 그려보면 금방 알 수 있음. 직선 그래프를 그리려면 시작점과 종료점의 x 좌표와 y 좌표를 plot 함수에 전달하면 됨. x 좌표 2개 [-0.1, 0.15]를 지정하고 y 좌표값은 w와 b를 사용해 계산하면 그래프를 쉽게 그릴 수 있음."
      ]
    },
    {
      "cell_type": "code",
      "metadata": {
        "id": "FTAMnYCE5Ulw",
        "colab_type": "code",
        "outputId": "3404826f-2398-4b76-bb78-211a7168c35c",
        "colab": {
          "base_uri": "https://localhost:8080/",
          "height": 279
        }
      },
      "source": [
        "plt.scatter(x, y)\n",
        "pt1 = (-0.1, -0.1 * w + b)\n",
        "pt2 = (0.15, 0.15 * w + b)\n",
        "plt.plot([pt1[0], pt2[0]], [pt1[1], pt2[1]])\n",
        "plt.xlabel('x')\n",
        "plt.ylabel('y')\n",
        "plt.show()"
      ],
      "execution_count": 0,
      "outputs": [
        {
          "output_type": "display_data",
          "data": {
            "image/png": "[encoded data removed]",
            "text/plain": [
              "<Figure size 432x288 with 1 Axes>"
            ]
          },
          "metadata": {
            "tags": []
          }
        }
      ]
    },
    {
      "cell_type": "markdown",
      "metadata": {
        "id": "9Fn7HjXH6j6V",
        "colab_type": "text"
      },
      "source": [
        "조금 더 완벽한 직선을 얻기 위해서는 반복을 해야함."
      ]
    },
    {
      "cell_type": "markdown",
      "metadata": {
        "id": "cFpMBOTC6oy1",
        "colab_type": "text"
      },
      "source": [
        "**5. 여러 에포크를 반복하기**\n",
        "\n",
        "보통 경사 하강법에서는 주어진 훈련 데이터로 학습을 여러 번 반복. 이렇게 전체 훈련 데이터를 모두 이용하여 한 단위의 작업을 진행하는 것을 에포크(epoch)라고 함. 일반적으로 수십~수천 번의 에포크를 반복. 위의 직선은 데이터의 중심에서 벗어났으므로 100번의 에포크를 반복하며 직선이 어떻게 이동하는지 확인. "
      ]
    },
    {
      "cell_type": "code",
      "metadata": {
        "id": "jkXlS5kP6XuR",
        "colab_type": "code",
        "outputId": "5c04f74e-054f-4c24-d9cd-c3e693d1df79",
        "colab": {
          "base_uri": "https://localhost:8080/",
          "height": 35
        }
      },
      "source": [
        "for i in range(1,100):\n",
        "  for x_i, y_i in zip(x, y):\n",
        "    y_hat = x_i * w + b\n",
        "    err = y_i - y_hat\n",
        "    w_rate = x_i\n",
        "    w = w + w_rate * err\n",
        "    b = b + 1 * err\n",
        "print(w,b)"
      ],
      "execution_count": 0,
      "outputs": [
        {
          "output_type": "stream",
          "text": [
            "913.5973364345905 123.39414383177204\n"
          ],
          "name": "stdout"
        }
      ]
    },
    {
      "cell_type": "markdown",
      "metadata": {
        "id": "iGzZuyMF7lc8",
        "colab_type": "text"
      },
      "source": [
        "w와 b를 이용하여 이 진선을 그래프로 나타내면"
      ]
    },
    {
      "cell_type": "code",
      "metadata": {
        "id": "QiJLwkb77TQG",
        "colab_type": "code",
        "outputId": "706befb6-6b9c-4da0-9123-1f9840caf75f",
        "colab": {
          "base_uri": "https://localhost:8080/",
          "height": 279
        }
      },
      "source": [
        "plt.scatter(x, y)\n",
        "pt1 = (-0.1, -0.1 * w + b)\n",
        "pt2 = (0.15, 0.15 * w + b)\n",
        "plt.plot([pt1[0], pt2[0]], [pt1[1], pt2[1]])\n",
        "plt.xlabel('x')\n",
        "plt.ylabel('y')\n",
        "plt.show()"
      ],
      "execution_count": 0,
      "outputs": [
        {
          "output_type": "display_data",
          "data": {
            "image/png": "[encoded data removed]",
            "text/plain": [
              "<Figure size 432x288 with 1 Axes>"
            ]
          },
          "metadata": {
            "tags": []
          }
        }
      ]
    },
    {
      "cell_type": "markdown",
      "metadata": {
        "id": "pq9LZpsn7x53",
        "colab_type": "text"
      },
      "source": [
        "따라서 이 데이터에 맞는 머신러닝 모델은\n",
        "\n",
        "$\\widehat{y}$ = 913.6x + 123.4"
      ]
    },
    {
      "cell_type": "markdown",
      "metadata": {
        "id": "IP5lm_HE75ga",
        "colab_type": "text"
      },
      "source": [
        "**6. 모델로 예측하기**\n",
        "\n",
        "입력 x에 없었던 새로운 데이터가 발생했다고 가정. 이 데이터에 대해 예측값을 얻으려면 찾은 모델에 x를 넣고 계산하기만 하면 됨. \n",
        "예를 들어 x가 0.18일 때 $\\widehat{y}$의 값을 예측해볼 수 있음."
      ]
    },
    {
      "cell_type": "code",
      "metadata": {
        "id": "z930Ic4D7s_H",
        "colab_type": "code",
        "outputId": "c0c52f3f-10b7-413f-a94d-2ca87b2d806a",
        "colab": {
          "base_uri": "https://localhost:8080/",
          "height": 35
        }
      },
      "source": [
        "x_new = 0.18\n",
        "y_pred = x_new * w+ b\n",
        "print(y_pred)"
      ],
      "execution_count": 0,
      "outputs": [
        {
          "output_type": "stream",
          "text": [
            "287.8416643899983\n"
          ],
          "name": "stdout"
        }
      ]
    },
    {
      "cell_type": "markdown",
      "metadata": {
        "id": "dhgBXvwt8QZE",
        "colab_type": "text"
      },
      "source": [
        "이 데이터를 산점도 위에 나타내면"
      ]
    },
    {
      "cell_type": "code",
      "metadata": {
        "id": "2Sc8nqsk8OEo",
        "colab_type": "code",
        "outputId": "2b6e3a52-cb23-47a4-c84f-8818a3ef4125",
        "colab": {
          "base_uri": "https://localhost:8080/",
          "height": 279
        }
      },
      "source": [
        "plt.scatter(x, y)\n",
        "plt.scatter(x_new, y_pred)\n",
        "plt.xlabel('x')\n",
        "plt.ylabel('y')\n",
        "plt.show()"
      ],
      "execution_count": 0,
      "outputs": [
        {
          "output_type": "display_data",
          "data": {
            "image/png": "[encoded data removed]",
            "text/plain": [
              "<Figure size 432x288 with 1 Axes>"
            ]
          },
          "metadata": {
            "tags": []
          }
        }
      ]
    },
    {
      "cell_type": "markdown",
      "metadata": {
        "id": "0-8-2dSi8hGY",
        "colab_type": "text"
      },
      "source": [
        "위 그래프 오른색 점이 바로 x가 0.18일 때 예측한 $\\widehat{y}$로 찍은 점. 산점도의 추세를 보니 적절한 것을 알 수 있음. "
      ]
    },
    {
      "cell_type": "markdown",
      "metadata": {
        "id": "VTEyUZrDMZ6M",
        "colab_type": "text"
      },
      "source": [
        "#**3-3 손실 함수와 경사 하강법의 관계**\n",
        "\n",
        "경사 하강법에 실제로 어떤 개념이 사용되었는지 알 수 있다.\n",
        "\n",
        "경사 하강법을 좀 더 기술적으로 표현하면 '어떤 손실 함수(loss function)가 정의되었을 때 손실 함수의 값이 최소가 되는 지점을 찾아가는 방법'임.\n",
        "손실 함수란 예상한 값과 실제 타깃값의 차이를 함수로 정의한 것.\n",
        "'오차를 변화율에 곱하여 가중치와 절편 업데이트한 것'은 '제곱 오차'라는 손실 함수를 미분한 것과 같다."
      ]
    },
    {
      "cell_type": "markdown",
      "metadata": {
        "id": "XgFGXAXKM-FE",
        "colab_type": "text"
      },
      "source": [
        "#**손실 함수의 정체**\n",
        "\n",
        "제곱 오차(squared error)는 타깃값과 예측값을 뺀 다음 제곱한 것. 제곱 오차를 수식으로 나타내면\n",
        "\n",
        "SE = (y - $\\widehat{y}$)^2\n",
        "\n",
        "이 때 제곱 오차가 최소가 되면 산점도 그래프를 가장 잘 표현한 직선이 그려짐.\n",
        "\n",
        "즉, 제곱 오차의 최솟값을 찾는 방법을 알면 모델을 쉽게 만들 수 있음.\n",
        "\n",
        "제곱 오차 함수의 최솟값을 알아내려면 기울기에 따라 함수의 값이 낮은 쪽으로 이동해야 함. 기울기를 구하려면 제곱 오차를 가중치나 절편에 대해 미분하면 됨. "
      ]
    },
    {
      "cell_type": "markdown",
      "metadata": {
        "id": "-Woh1KeoN92W",
        "colab_type": "text"
      },
      "source": [
        "**가중치에 대하여 제곱 오차 미분하기**\n",
        "\n",
        "제곱 오차를 가중치(w)에 대하여 편미분하면\n",
        "\n",
        "dSE/dw = [d(y-$\\widehat{y}$)^2]/dw = 2(y=$\\widehat{y}$)(-d$\\widehat{y}$/dw) = 2(y-$\\widehat{y}$)(-x) = (-2y-$\\widehat{y}$)x\n",
        "\n",
        "y는 준비된 타깃 데이터이므로 w의 함수가 아니고 $\\widehat{y}$은 w의 함수인 점을 조심해야 함.\n",
        "\n",
        "따라서 y는 그대로 두고 -$\\widehat{y}$에 대해서만 미분.\n",
        "\n",
        "$\\widehat{y}$를 w에 대해 미분하면 상수항 b는 사라지고 x만 남음. 제곱 오차를 가중치에 대하여 미분한 결과는\n",
        "\n",
        "dSE/dw = -2(y-$\\widehat{y}$)x\n",
        "\n",
        "손실 함수에 상수를 곱하거나 나누어도 최종 모델의 가중치나 절편에 영향을 주지는 않으므로 -(y-$\\widehat{y}$)x를 -2(y-$\\widehat{y}$)x 대신 사용하기로 하자.\n",
        "\n",
        "가중치에 대한 제곱 오차의 변화율을 구했으므로 가중치 업데이트에 변화율을 더했던 것과 비슷한 방법으로 가중치를 업데이트한다.\n",
        "\n",
        "여기서는 w 에서 변화율을 빼는데, 변화율을 더하지 않고 빼는 이유는 손실 함수의 낮은 쪽으로 이동하려 하기 때문이다.\n",
        "\n",
        "w = w - dSE/dw = w + (y - $\\widehat{y}$)x"
      ]
    },
    {
      "cell_type": "code",
      "metadata": {
        "id": "0uRtzQnO8bu4",
        "colab_type": "code",
        "colab": {}
      },
      "source": [
        "y_hat = x_i * w + b\n",
        "err = y_i - y_hat \n",
        "w_rate = x_i\n",
        "w = w + w_rate * err"
      ],
      "execution_count": 0,
      "outputs": []
    },
    {
      "cell_type": "markdown",
      "metadata": {
        "id": "i0m0A2WgWXi-",
        "colab_type": "text"
      },
      "source": [
        "**절편에 대하여 제곱 오차 미분하기**\n",
        "\n",
        "절편에 대하여 제곱 오차를 미분하는데, 처음부터 1/2를 곱한 제곱 오차 공식을 사용한다.\n",
        "\n",
        "dSE/db = d[1/2(y - $\\widehat{y}$)^2]/db = (y - $\\widehat{y}$)(-d$\\widehat{y}$/db) = (y - $\\widehat{y}$)(-1) = -(y-$\\widehat{y}$)1\n",
        "\n",
        "미분 과정은 편미분 과정과 매우 비슷. \n",
        "\n",
        "$\\widehat{y}$ = w*x+b이므로 $\\widehat{y}$를 b에 대해 미분하면 wxb항은 사라지고 b의 계수인 1만 남음.\n",
        "\n",
        "가중치에서 변화율을 뺐던 이유와 같은 이유로 절편에서 변화율을 뺀다.\n",
        "\n",
        "b = b - dSE/db = b + (y-$\\widehat{y}$)\n",
        "\n",
        "이 식은 아래의 코드와 정확히 일치함."
      ]
    },
    {
      "cell_type": "code",
      "metadata": {
        "id": "fqxbBELcWWGK",
        "colab_type": "code",
        "colab": {}
      },
      "source": [
        "err = y_i - y_hat\n",
        "b = b + 1 * err"
      ],
      "execution_count": 0,
      "outputs": []
    },
    {
      "cell_type": "markdown",
      "metadata": {
        "id": "cujfVv00Xrqt",
        "colab_type": "text"
      },
      "source": [
        "손실 함수에 대해 일일히 변화율의 값을 계산하는 대신 편미분을 사용하여 변화율을 계산한다. 변화율은 AI분야에서 특별히 그레이디언트(gradient, 경사)라고 부름. "
      ]
    },
    {
      "cell_type": "markdown",
      "metadata": {
        "id": "TNDHt7jLYJKi",
        "colab_type": "text"
      },
      "source": [
        "#**3-4 선형 회귀를 위한 뉴런 제작**\n",
        "\n",
        "경사 하강법 알고리즘을 Neuron이라는 이름의 파이썬 클래스로 만들 수 있음. \n",
        "\n",
        "\n",
        "\n",
        "#**Neuron 클래스 만들기**\n",
        "\n",
        "아래는 Neuron 클래스의 전체 구조."
      ]
    },
    {
      "cell_type": "code",
      "metadata": {
        "id": "E8dLu34CXnBp",
        "colab_type": "code",
        "colab": {}
      },
      "source": [
        "class Neuron:\n",
        "  \n",
        "  def __init__(self):\n",
        "   #초기화 작업 수행\n",
        "   ...\n",
        "\n",
        "   #필요한 메서드 추가\n",
        "   ... "
      ],
      "execution_count": 0,
      "outputs": []
    },
    {
      "cell_type": "markdown",
      "metadata": {
        "id": "UQ26jYpDYqlU",
        "colab_type": "text"
      },
      "source": [
        "신경망 알고리즘은 실제 뇌의 뉴런과 아무 관계가 없고, 요즘 연구자들은 '뉴런'이 아닌 '유닛(unit)'이라는 명칭을 사용함. \n",
        "\n",
        "\n",
        "**1. __init__() 메서드 작성하기**\n",
        "\n",
        "__init__() 메서드에 필요한 변수를 선언한다.\n",
        "이 때 가중치 w와 절편 b는 시작값이 있어야 하므로 임의로 1.0을 지정한다.\n",
        "\n"
      ]
    },
    {
      "cell_type": "code",
      "metadata": {
        "id": "LhixhEh9YoqB",
        "colab_type": "code",
        "colab": {}
      },
      "source": [
        "def __init__(self):\n",
        "  self.w = 1.0\n",
        "  self.b = 1.0"
      ],
      "execution_count": 0,
      "outputs": []
    },
    {
      "cell_type": "markdown",
      "metadata": {
        "id": "Z_15ZuJsZZHK",
        "colab_type": "text"
      },
      "source": [
        "**2. 정방향 계산 만들기**\n",
        "\n",
        "정방향 계산을 위한 메서드를 정의하는데, 정방향 계산이란 뉴런으로 도식화한 상태에서 $\\widehat{y}$을 구하는 방향을 보고 만든 용어임. \n",
        "\n",
        "메서드 이름은 forpass라고 정하고, 지금까지의 모델은 1차 함수였으므로 forpass() 메서드도 1차 함수를 통해 예측값을 계산. 가중치와 절편은 인스턴스 변수 w와 b에 저장되어 있는 값을 사용."
      ]
    },
    {
      "cell_type": "code",
      "metadata": {
        "id": "xNYy_q3-ZMvO",
        "colab_type": "code",
        "colab": {}
      },
      "source": [
        "def forpass(self,x):\n",
        "  y_hat = x * self.w + self.b  # 직선 방정식을 계산한다.\n",
        "  return y_hat"
      ],
      "execution_count": 0,
      "outputs": []
    },
    {
      "cell_type": "markdown",
      "metadata": {
        "id": "bjxzOeBRcALP",
        "colab_type": "text"
      },
      "source": [
        "y, x, b가 뉴런의 왼쪽에서 오른쪽 방향으로 흘러 $\\widehat{y}$가 되고, 따라서 정방향 계산이라는 용어를 사용한다.\n",
        "\n",
        "정방향 계산을 정리하면 아래와 같다.\n",
        "\n",
        "$\\widehat{y}$ = w*x + b"
      ]
    },
    {
      "cell_type": "markdown",
      "metadata": {
        "id": "H-vWzJqvcR3J",
        "colab_type": "text"
      },
      "source": [
        "**3. 역방향 계산 만들기**\n",
        "\n",
        "위의 정방향과는 다르게, 정방향 계산을 통해 $\\widehat{y}$과 y의 차이를 얻었고, 그 오차가 뉴런의 오른쪽 방향에서 왼쪽으로 흐른다. 따라서 이것을 역방향 계산이라고 부른다.\n",
        "\n",
        "즉, 오차가 역전파(backpropagation)된다. \n",
        "\n",
        "그러면 역방향 계산도 메서드로 구현할 수 있다."
      ]
    },
    {
      "cell_type": "code",
      "metadata": {
        "id": "JoDth1rBbhLj",
        "colab_type": "code",
        "colab": {}
      },
      "source": [
        "def backprop(self, x, err):\n",
        "  w_grad = x * err  # 가중치에 대한 그레이디언트를 계산한다.\n",
        "  b_grad = 1* err    # 절편에 대한 그레이디언트를 계산한다.\n",
        "  return w_grad, b_grad"
      ],
      "execution_count": 0,
      "outputs": []
    },
    {
      "cell_type": "markdown",
      "metadata": {
        "id": "Cn6kkJA4c-Nb",
        "colab_type": "text"
      },
      "source": [
        "편미분을 통해 얻었던 수식과 동일하다.\n",
        "\n",
        "가중치의 그레이디언트는 x와 오차(err)를 곱하고 절편의 그레이디언트는 1과 오차(err)을 곱하면 된다. 이후 이 값들로 가중치와 절편을 업데이트하여 점차 손실 함수가 가장 작은 값인 가중치와 절편을 얻을 수 있다."
      ]
    },
    {
      "cell_type": "markdown",
      "metadata": {
        "id": "4W1XUju1dQgS",
        "colab_type": "text"
      },
      "source": [
        "**4. Neuron 클래스 작성**\n",
        "\n",
        "이제 Neuron 클래스를 작성할 수 있는데, 코드는 간단하지만 딥러닝이 사용하는 경사 하강법 알고리즘의 핵심이 들어가 있다. 딥러닝은 이러한 간단한 연산의 조합으로 이루어져 있다.\n"
      ]
    },
    {
      "cell_type": "code",
      "metadata": {
        "id": "YLOwbP62c6WM",
        "colab_type": "code",
        "colab": {}
      },
      "source": [
        "class Neuron:\n",
        "  def __init__(self):\n",
        "    self.w = 1.0   # 가중치를 초기화\n",
        "    self.b = 1.0   # 절편을 초기화\n",
        "  \n",
        "  def forpass(self, x):\n",
        "    y_hat = x * self.w + self.b   # 직선 방정식을 계산.\n",
        "    return y_hat\n",
        "  \n",
        "  def backprop(self, x, err):\n",
        "    w_grad = x * err  # 가중치에 대한 그레이디언트를 계산\n",
        "    b_grad = 1 * err  # 절편에 대한 그레이디언트를 계산\n",
        "    return w_grad, b_grad"
      ],
      "execution_count": 0,
      "outputs": []
    },
    {
      "cell_type": "markdown",
      "metadata": {
        "id": "TTIcYHBneCcu",
        "colab_type": "text"
      },
      "source": [
        "이제 과정 **1~4**를 조합하여 데이터를 통해 가중치와 절편을 업데이트 할 수 있도록 fit() 메서드를 구현해야 한다. \n",
        "\n",
        "이 메서드는 for 문으로 구현했던 코드와 매우 유사함."
      ]
    },
    {
      "cell_type": "markdown",
      "metadata": {
        "id": "YeH67SHUeQsm",
        "colab_type": "text"
      },
      "source": [
        "**5. fit() 메서드 구현**\n",
        "\n",
        "fit() 메서드의 구조는 처음에 forpass() 메서드를 호출하여 $\\widehat{y}$를 구하고, 오차를 계산하고 backprop() 메서드를 호출하여 가중치와 절편에 대한 그레이디언트를 구한다. 마지막으로 그레이디언트를 가중치와 절편에서 빼면 가중치와 절편의 업데이트가 끝난다. 이 과정을 모든 샘플에 대해 수행하고, 적절한 가중치와 절편이 구해질 만큼 반복하면 됨."
      ]
    },
    {
      "cell_type": "code",
      "metadata": {
        "id": "ELkw_OLMeAqv",
        "colab_type": "code",
        "colab": {}
      },
      "source": [
        "def fit(self, x, y, epochs=100):\n",
        "  for i in range(epochs):       # 에포크만큼 반복\n",
        "    for x_i, y_i in zip(x, y):  # 모든 샘플에 대해 반복\n",
        "      y_hat = self.forpass(x_i) # 정방향 계산\n",
        "      err = -(y_i - y_hat)      # 오차 계산\n",
        "      w_grad, b_grad = self.backprop(x_i, err)  # 역방향 계산\n",
        "      self.w -= w_grad   # 가중치 업데이트\n",
        "      self.b -= b_grad   #  절편 업데이트"
      ],
      "execution_count": 0,
      "outputs": []
    },
    {
      "cell_type": "markdown",
      "metadata": {
        "id": "s4-skvxWfN5W",
        "colab_type": "text"
      },
      "source": [
        "**6. 모델 훈련하기(학습시키기)**\n",
        "\n",
        "실제로 모델을 만들고 훈련해(학습해)볼 수 있다. \n",
        "\n",
        "Neuron 클래스의 객체 neuron을 생성하고 fit() 메서드에 입력 데이터(x)와 타깃 데이터(y)를 전달하면 됨.\n"
      ]
    },
    {
      "cell_type": "code",
      "metadata": {
        "id": "qQrtJ6GFfg_N",
        "colab_type": "code",
        "colab": {}
      },
      "source": [
        "class Neuron:\n",
        "\n",
        "  def __init__(self):\n",
        "    self.w = 1.0\n",
        "    self.b = 1.0\n",
        "\n",
        "  def forpass(self, x):\n",
        "    y_hat = x * self.w + self.b\n",
        "    return y_hat\n",
        "\n",
        "  def backprop(self, x, err):\n",
        "    w_grad = x * err\n",
        "    b_grad = 1 * err\n",
        "    return w_grad, b_grad\n",
        "\n",
        "  def fit(self, x, y, epochs=100):\n",
        "    for i in range(epochs):\n",
        "      for x_i, y_i in zip(x, y):\n",
        "          y_hat = self.forpass(x_i)\n",
        "          err = -(y_i - y_hat)\n",
        "          w_grad, b_grad = self.backprop(x_i, err)\n",
        "          self.w -= w_grad\n",
        "          self.b -= b_grad"
      ],
      "execution_count": 0,
      "outputs": []
    },
    {
      "cell_type": "code",
      "metadata": {
        "id": "PA7B0SMafhkA",
        "colab_type": "code",
        "colab": {}
      },
      "source": [
        "neuron = Neuron( )\n",
        "neuron.fit(x, y)"
      ],
      "execution_count": 0,
      "outputs": []
    },
    {
      "cell_type": "markdown",
      "metadata": {
        "id": "86-amyjFi1Qc",
        "colab_type": "text"
      },
      "source": [
        "**7. 학습이 완료된 모델의 가중치와 절편 확인**\n",
        "\n",
        "학습이 완료된 가중치와 절편은 neuron.w와 neuron.b에 저장되어 있음. 이 값을 활용하여 산점도 위에 직선 그래프를 그릴 수 있다."
      ]
    },
    {
      "cell_type": "code",
      "metadata": {
        "id": "iCSgk3RVizeg",
        "colab_type": "code",
        "outputId": "869f6300-5626-4b7e-ec4f-1b9b9b440263",
        "colab": {
          "base_uri": "https://localhost:8080/",
          "height": 279
        }
      },
      "source": [
        "plt.scatter(x, y)\n",
        "pt1 = (-0.1, -0.1 * neuron.w + neuron.b)\n",
        "pt2 = (0.15, 0.15 * neuron.w + neuron.b)\n",
        "plt.plot([pt1[0], pt2[0]], [pt1[1], pt2[1]])\n",
        "plt.xlabel('x')\n",
        "plt.ylabel('y')\n",
        "plt.show()"
      ],
      "execution_count": 0,
      "outputs": [
        {
          "output_type": "display_data",
          "data": {
            "image/png": "[encoded data removed]",
            "text/plain": [
              "<Figure size 432x288 with 1 Axes>"
            ]
          },
          "metadata": {
            "tags": []
          }
        }
      ]
    },
    {
      "cell_type": "markdown",
      "metadata": {
        "id": "lOmk8NNMjnqJ",
        "colab_type": "text"
      },
      "source": [
        "이것은 경사 하강법을 적용한 뉴런을 구현한 것이다. \n",
        "\n",
        "신경망 모델을 사용하는 딥러닝은 항상 경사 하강법 알고리즘을 사용하므로 경사 하강법 알고리즘이 딥러닝의 핵심 요소 중 하나이다. "
      ]
    }
  ]
}