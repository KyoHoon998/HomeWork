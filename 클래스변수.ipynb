{
  "nbformat": 4,
  "nbformat_minor": 0,
  "metadata": {
    "colab": {
      "name": "Untitled14.ipynb",
      "provenance": []
    },
    "kernelspec": {
      "name": "python3",
      "display_name": "Python 3"
    }
  },
  "cells": [
    {
      "cell_type": "markdown",
      "metadata": {
        "id": "YLexWzLovn4e",
        "colab_type": "text"
      },
      "source": [
        "**클래스 변수에 대하여. 과제제출**\n",
        "\n",
        "# 교수님께서 알고 싶어 하시는것 \n",
        "\n",
        "클래스 변수를 통하여 인스턴스들의 변수를 변환 할 수 있었는데 왜 인스턴스에 똑같은 변수를 변환하면 클래스의 변수는 변하지않는가? 또 다른 인스턴스들의 변수는 여전히 변하지 않는가?\n",
        "\n",
        "\n",
        "\n",
        "# 나의 답변\n",
        "\n",
        "결론 부터 이야기 하면 Test.num = a1.num 이 아니다.\n",
        "최초에 a1 이라는 인스턴스가 생성되었을때, a1에는 num 이라는 변수가 없다.\n",
        "\n",
        "클래스의 네임스페이스 라는 개념을 생각하면 이해가 쉽다. 클래스를 생성 후, 클래스의 변수를 지정해 주면, 클래스의 네임스페이스의 공간에 클래스 변수가 입력되어있다. 이는 딕셔너리 형태로 보여준다. 밑은 예시이다.\n"
      ]
    },
    {
      "cell_type": "code",
      "metadata": {
        "id": "36K3YSCiypNd",
        "colab_type": "code",
        "colab": {
          "base_uri": "https://localhost:8080/",
          "height": 105
        },
        "outputId": "f7384ce5-acbf-4dc9-f09a-6af5a36da1dd"
      },
      "source": [
        "class Test:\n",
        "  num = 998\n",
        "  \n",
        "Test.__dict__"
      ],
      "execution_count": 30,
      "outputs": [
        {
          "output_type": "execute_result",
          "data": {
            "text/plain": [
              "mappingproxy({'__dict__': <attribute '__dict__' of 'Test' objects>,\n",
              "              '__doc__': None,\n",
              "              '__module__': '__main__',\n",
              "              '__weakref__': <attribute '__weakref__' of 'Test' objects>,\n",
              "              'num': 998})"
            ]
          },
          "metadata": {
            "tags": []
          },
          "execution_count": 30
        }
      ]
    },
    {
      "cell_type": "markdown",
      "metadata": {
        "id": "GrcrV_Zzyzay",
        "colab_type": "text"
      },
      "source": [
        "위에 'num':998 이라는 변수가 생성되어있는 것을 볼 수 있다. 여기서 \"dict\"(양쪽에 아래바 두개)는 클래스의 네임스페이스 공간을 보여주는 함수이다.\n",
        "\n",
        "우리가 클래스의 인스턴스를 생성하면, 인스턴스 또한 네임스페이스가 존재함을 볼 수 있다."
      ]
    },
    {
      "cell_type": "code",
      "metadata": {
        "id": "Vs2Hv9FqzSBp",
        "colab_type": "code",
        "colab": {
          "base_uri": "https://localhost:8080/",
          "height": 34
        },
        "outputId": "8f0c7d51-469c-4519-8152-0df69749f57d"
      },
      "source": [
        "a1 = Test()\n",
        "a1.__dict__"
      ],
      "execution_count": 31,
      "outputs": [
        {
          "output_type": "execute_result",
          "data": {
            "text/plain": [
              "{}"
            ]
          },
          "metadata": {
            "tags": []
          },
          "execution_count": 31
        }
      ]
    },
    {
      "cell_type": "markdown",
      "metadata": {
        "id": "VNFaORIezX5J",
        "colab_type": "text"
      },
      "source": [
        "위처럼 a1이라는 인스턴스에도 네임스페이스가 존재한다. 그러나 그 네임스페이스 안에는 아무런 변수가 없다. 그런데 우리는 아래 처럼 클래스 변수를 통해 a1.num 의 값을 나타낼 수 있다."
      ]
    },
    {
      "cell_type": "code",
      "metadata": {
        "id": "a77R9ohtzgeY",
        "colab_type": "code",
        "colab": {
          "base_uri": "https://localhost:8080/",
          "height": 34
        },
        "outputId": "aa4417c2-5fc0-4c23-cd7f-26cad839cb09"
      },
      "source": [
        "a1.num"
      ],
      "execution_count": 32,
      "outputs": [
        {
          "output_type": "execute_result",
          "data": {
            "text/plain": [
              "998"
            ]
          },
          "metadata": {
            "tags": []
          },
          "execution_count": 32
        }
      ]
    },
    {
      "cell_type": "markdown",
      "metadata": {
        "id": "ZcpyAVI7zteg",
        "colab_type": "text"
      },
      "source": [
        "인스턴스의 네임스페이스 안에 아무런 변수가 없는데 어떻게 num 이라는 변수의 값을 나타낸 것일까? 이는 , 우리가 a1.변수 를 입력했을때 파이썬은 '변수'라는 변수가 인스턴스의 네임스페이스에 존재하는지 찾아보고, 없다면 a1이 속한 클래스 즉 Test 의 네임스페이스에 '변수' 라는 변수가 있는지 찾아본다. 만약 존재한다면 그 값이 출력된다. (id를 통하여 Test.num 과 a1.num 이 같은 주소를 가르키는 것은 Tes.num 과 a1.num이 통합되어 있는것이 아니라, 둘다 Test의 네임스페이스의 num 이라는 변수를 가르켰기 때문이다.) 즉, Test의 num 이라는 변수의 값을 변환했을때 a1의 num 즉 인스턴스의 num 이라는 변수를 변환한것이 아니라 Test의 num 이라는 변수값만 변화한것이다. (a1에는 num 이라는 변수 조차 존재 하지 않음으로) a1에는 num 이라는 변수가 여전히 존재하지 않으니, Test의 변환된  num  값을 출력해준다."
      ]
    },
    {
      "cell_type": "code",
      "metadata": {
        "id": "eaBBTuBV0iat",
        "colab_type": "code",
        "colab": {
          "base_uri": "https://localhost:8080/",
          "height": 34
        },
        "outputId": "494fb633-b555-4834-db65-0e7a3332c629"
      },
      "source": [
        "Test.num = 999\n",
        "a1.num"
      ],
      "execution_count": 33,
      "outputs": [
        {
          "output_type": "execute_result",
          "data": {
            "text/plain": [
              "999"
            ]
          },
          "metadata": {
            "tags": []
          },
          "execution_count": 33
        }
      ]
    },
    {
      "cell_type": "markdown",
      "metadata": {
        "id": "8Rc_SOZ80pST",
        "colab_type": "text"
      },
      "source": [
        "그런데 , 여기서 a1.num = 0 을 입력하면 어떻게 될까?  a1 의 네임스페이스 안에 num 이라는 변수가 생기고, 그 값은 0이 되는 것을 볼 수 있다. 이는 class 에는 무관하며 오로지 a1 안의 네임스페이스에 num 이라는 변수와 그 값을 생성하는 행위를 했을뿐이다. 따라서 다른 인스턴스나 class 의 변수에 영향을 주는 행위 일 수 없다.\n",
        "\n",
        "위에서 설명했듯, 파이썬은 a1.변수 를 입력했을때 '변수' 라는 변수를 먼저 a1의 네임스페이스에서 찾아본다. a1의 네임스페이스에는 num 이라는 변수가 생성 되었으니, a1이 속한 class인 Test 의 네임스페이스 까지 갈 필요없이 a1의 네임스페이스에 있는 num 값이 출력된다.\n",
        "\n",
        "a2 라는 인스턴스를 생성한 후 a2.num 을 확인해보면 a1.num 은 이에 아무런 영향을 주지 않음을 알 수 있다.\n",
        "\n",
        "이런 네임스페이스의 개념을 알고 난 뒤 생각을 해보면 a1.num을 변환하여 Test.num 에 영향을 주는 행위는 불가능하다.(저의 공부로는)"
      ]
    },
    {
      "cell_type": "code",
      "metadata": {
        "id": "v-etKcTj1hNL",
        "colab_type": "code",
        "colab": {
          "base_uri": "https://localhost:8080/",
          "height": 34
        },
        "outputId": "9287ce88-6be9-469b-e615-4116eb272d36"
      },
      "source": [
        "a1.num = 0\n",
        "a1.__dict__"
      ],
      "execution_count": 34,
      "outputs": [
        {
          "output_type": "execute_result",
          "data": {
            "text/plain": [
              "{'num': 0}"
            ]
          },
          "metadata": {
            "tags": []
          },
          "execution_count": 34
        }
      ]
    },
    {
      "cell_type": "code",
      "metadata": {
        "id": "y0HfoKbF1l78",
        "colab_type": "code",
        "colab": {
          "base_uri": "https://localhost:8080/",
          "height": 34
        },
        "outputId": "53cba155-0374-4695-961d-4d90bf39fc9c"
      },
      "source": [
        "a1.num"
      ],
      "execution_count": 35,
      "outputs": [
        {
          "output_type": "execute_result",
          "data": {
            "text/plain": [
              "0"
            ]
          },
          "metadata": {
            "tags": []
          },
          "execution_count": 35
        }
      ]
    },
    {
      "cell_type": "code",
      "metadata": {
        "id": "7qpQRBut1rM6",
        "colab_type": "code",
        "colab": {
          "base_uri": "https://localhost:8080/",
          "height": 34
        },
        "outputId": "a8738001-aa31-49c4-edc7-f9fc306a20fd"
      },
      "source": [
        "a2 = Test()\n",
        "a2.num"
      ],
      "execution_count": 36,
      "outputs": [
        {
          "output_type": "execute_result",
          "data": {
            "text/plain": [
              "999"
            ]
          },
          "metadata": {
            "tags": []
          },
          "execution_count": 36
        }
      ]
    },
    {
      "cell_type": "code",
      "metadata": {
        "id": "H-I9LQU12tld",
        "colab_type": "code",
        "colab": {
          "base_uri": "https://localhost:8080/",
          "height": 34
        },
        "outputId": "a8a429d6-aa05-4ed1-81ee-f3d629c9602d"
      },
      "source": [
        "a2.__dict__"
      ],
      "execution_count": 37,
      "outputs": [
        {
          "output_type": "execute_result",
          "data": {
            "text/plain": [
              "{}"
            ]
          },
          "metadata": {
            "tags": []
          },
          "execution_count": 37
        }
      ]
    },
    {
      "cell_type": "markdown",
      "metadata": {
        "id": "XaxOskAt22Wz",
        "colab_type": "text"
      },
      "source": [
        "참고자료 : https://wikidocs.net/1743"
      ]
    }
  ]
}