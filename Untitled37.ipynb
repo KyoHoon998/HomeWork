{
  "nbformat": 4,
  "nbformat_minor": 0,
  "metadata": {
    "colab": {
      "name": "Untitled37.ipynb",
      "provenance": [],
      "include_colab_link": true
    },
    "kernelspec": {
      "name": "python3",
      "display_name": "Python 3"
    },
    "accelerator": "GPU"
  },
  "cells": [
    {
      "cell_type": "markdown",
      "metadata": {
        "id": "view-in-github",
        "colab_type": "text"
      },
      "source": [
        "<a href=\"https://colab.research.google.com/github/KyoHoon998/HomeWork/blob/master/Untitled37.ipynb\" target=\"_parent\"><img src=\"https://colab.research.google.com/assets/colab-badge.svg\" alt=\"Open In Colab\"/></a>"
      ]
    },
    {
      "cell_type": "code",
      "metadata": {
        "id": "u9141pj-lh8C",
        "colab_type": "code",
        "colab": {}
      },
      "source": [
        "!wget -c https://repo.continuum.io/miniconda/Miniconda3-latest-Linux-x86_64.sh\n",
        "!chmod +x Miniconda3-latest-Linux-x86_64.sh\n",
        "!time bash ./Miniconda3-latest-Linux-x86_64.sh -b -f -p /usr/local\n",
        "!time conda install -q -y -c conda-forge rdkit"
      ],
      "execution_count": 0,
      "outputs": []
    },
    {
      "cell_type": "code",
      "metadata": {
        "id": "Npo7PC8wvyGE",
        "colab_type": "code",
        "colab": {}
      },
      "source": [
        "%matplotlib inline\n",
        "import matplotlib.pyplot as plt\n",
        "import sys\n",
        "import os\n",
        "sys.path.append('/usr/local/lib/python3.7/site-packages/')\n"
      ],
      "execution_count": 0,
      "outputs": []
    },
    {
      "cell_type": "code",
      "metadata": {
        "id": "6qOcNVFsu8bu",
        "colab_type": "code",
        "colab": {}
      },
      "source": [
        "#RDkit 적용\n",
        "from __future__ import print_function #2.X대 python호환을 위해\n",
        "from rdkit import Chem\n",
        "from rdkit.Chem import AllChem\n",
        "from rdkit.Chem.Draw import IPythonConsole\n",
        "from rdkit.Chem import Draw\n"
      ],
      "execution_count": 0,
      "outputs": []
    },
    {
      "cell_type": "markdown",
      "metadata": {
        "id": "Y9MSxnyUTXA-",
        "colab_type": "text"
      },
      "source": [
        "## 5.3 Aromatic Nitrogen Compounds\n",
        "\n",
        "방향성 질소는 모두 방향성 질소 기호 n으로 지정할 수 있습니다. \n",
        " - 피리딘 (Pyridine)\n",
        " - 피리딘-N-산화물 (Pyridine-N-oxide)\n",
        " - 피롤 (Methyl and 1H-pyrrole)\n",
        "\n",
        "![a](http://www.daylight.com/dayhtml/doc/theory/theory23.gif)|![b](http://www.daylight.com/dayhtml/doc/theory/theory24.gif)|![c](http://www.daylight.com/dayhtml/doc/theory/theory25.gif)\n",
        "----|----|----\n",
        "n1ccccc1 | O=n1ccccc1 _ _ [O-][n+]1ccccc1\t |  Cn1cccc1 _ _ _ [nH]1cccc1\n",
        "Pyridine | Pyridine-N-oxide\t | Methyl and 1H-pyrrole\n",
        "\n",
        "> 1-1H-pyrrole의 질소는 pyridyl-N와 구별하기 위해 [nH]로 쓰여져 있습니다."
      ]
    },
    {
      "cell_type": "code",
      "metadata": {
        "id": "OZaGD-Ezc2Nu",
        "colab_type": "code",
        "colab": {
          "base_uri": "https://localhost:8080/",
          "height": 167
        },
        "outputId": "3667cb24-3f6c-4169-9417-2c5a4db09142"
      },
      "source": [
        "N = Chem.MolFromSmiles('n1ccccc1')\n",
        "N"
      ],
      "execution_count": 25,
      "outputs": [
        {
          "output_type": "execute_result",
          "data": {
            "image/png": "[encoded data removed]",
            "text/plain": [
              "<rdkit.Chem.rdchem.Mol at 0x7fd8b4aee1c0>"
            ]
          },
          "metadata": {
            "tags": []
          },
          "execution_count": 25
        }
      ]
    },
    {
      "cell_type": "code",
      "metadata": {
        "id": "5q5fuQY9c4pA",
        "colab_type": "code",
        "colab": {
          "base_uri": "https://localhost:8080/",
          "height": 167
        },
        "outputId": "2a39d845-77e1-432d-b6f0-345206d73456"
      },
      "source": [
        "N2 = Chem.MolFromSmiles('[nH]1cccc1')\n",
        "N2"
      ],
      "execution_count": 26,
      "outputs": [
        {
          "output_type": "execute_result",
          "data": {
            "image/png": "[encoded data removed]",
            "text/plain": [
              "<rdkit.Chem.rdchem.Mol at 0x7fd8b4aee2b0>"
            ]
          },
          "metadata": {
            "tags": []
          },
          "execution_count": 26
        }
      ]
    },
    {
      "cell_type": "markdown",
      "metadata": {
        "id": "oWhhm3asc6p7",
        "colab_type": "text"
      },
      "source": [
        "## 5.4 Bonding Conventions\n",
        "\n",
        "SMILES의 장점 : 동일한 구조를 다양한 모델로 설명, 분자속 어떤 원자의 전하도 나타낼 수 있습니다.\n",
        "> 니트로메탄(Nitromethane) : `CN(=O)=O`    또는   `C[N+](=O)[O-]`"
      ]
    },
    {
      "cell_type": "code",
      "metadata": {
        "id": "qukTNvygdI2c",
        "colab_type": "code",
        "colab": {
          "base_uri": "https://localhost:8080/",
          "height": 167
        },
        "outputId": "7fce6a90-6dcd-4258-ee7a-b85e6e797080"
      },
      "source": [
        "N3 = Chem.MolFromSmiles('CN(=O)=O')\n",
        "N3"
      ],
      "execution_count": 27,
      "outputs": [
        {
          "output_type": "execute_result",
          "data": {
            "image/png": "[encoded data removed]",
            "text/plain": [
              "<rdkit.Chem.rdchem.Mol at 0x7fd8b4aee490>"
            ]
          },
          "metadata": {
            "tags": []
          },
          "execution_count": 27
        }
      ]
    },
    {
      "cell_type": "code",
      "metadata": {
        "id": "njkrwIXcdPr7",
        "colab_type": "code",
        "colab": {
          "base_uri": "https://localhost:8080/",
          "height": 167
        },
        "outputId": "d2d1cb84-1b67-4cc4-e9bf-d4d045776bd8"
      },
      "source": [
        "N4 = Chem.MolFromSmiles('C[N+](=O)[O-]')\n",
        "N4"
      ],
      "execution_count": 28,
      "outputs": [
        {
          "output_type": "execute_result",
          "data": {
            "image/png": "[encoded data removed]",
            "text/plain": [
              "<rdkit.Chem.rdchem.Mol at 0x7fd8b4aee670>"
            ]
          },
          "metadata": {
            "tags": []
          },
          "execution_count": 28
        }
      ]
    },
    {
      "cell_type": "markdown",
      "metadata": {
        "id": "jEgDpj4vdQmc",
        "colab_type": "text"
      },
      "source": [
        "## 5.5 Tautomers\n",
        "\n",
        "![a](http://www.daylight.com/dayhtml/doc/theory/theory26.gif)|-\n",
        "-----------|-----------\n",
        "O=c1[nH]cccc1 _ _ _ _ _ _ _ _ _ _ _ _ _ _ _ | Oc1ncccc1\n",
        "2-pyridone _ _ _ _ _ _ _ _ _ _ _ _ _ _ _ | 2-pyridinol"
      ]
    },
    {
      "cell_type": "code",
      "metadata": {
        "id": "O4l-UmCDdcyv",
        "colab_type": "code",
        "colab": {
          "base_uri": "https://localhost:8080/",
          "height": 167
        },
        "outputId": "70ec9c39-53de-4534-da8f-f0432c28d0e3"
      },
      "source": [
        "T1 = Chem.MolFromSmiles('O=c1[nH]cccc1')\n",
        "T1"
      ],
      "execution_count": 29,
      "outputs": [
        {
          "output_type": "execute_result",
          "data": {
            "image/png": "[encoded data removed]",
            "text/plain": [
              "<rdkit.Chem.rdchem.Mol at 0x7fd8b4aee7b0>"
            ]
          },
          "metadata": {
            "tags": []
          },
          "execution_count": 29
        }
      ]
    },
    {
      "cell_type": "code",
      "metadata": {
        "id": "roh4kLbBdd6T",
        "colab_type": "code",
        "colab": {
          "base_uri": "https://localhost:8080/",
          "height": 167
        },
        "outputId": "b422be24-f389-4eda-d64a-a4fe1bd7d1b7"
      },
      "source": [
        "T2 = Chem.MolFromSmiles('Oc1ncccc1')\n",
        "T2"
      ],
      "execution_count": 30,
      "outputs": [
        {
          "output_type": "execute_result",
          "data": {
            "image/png": "[encoded data removed]",
            "text/plain": [
              "<rdkit.Chem.rdchem.Mol at 0x7fd8b4aee760>"
            ]
          },
          "metadata": {
            "tags": []
          },
          "execution_count": 30
        }
      ]
    },
    {
      "cell_type": "code",
      "metadata": {
        "id": "OlCmvJZfdezb",
        "colab_type": "code",
        "colab": {}
      },
      "source": [
        ""
      ],
      "execution_count": 0,
      "outputs": []
    }
  ]
}