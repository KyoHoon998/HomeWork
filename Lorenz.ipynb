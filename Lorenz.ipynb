{
  "nbformat": 4,
  "nbformat_minor": 0,
  "metadata": {
    "colab": {
      "name": "Lorenz.ipynb",
      "provenance": []
    },
    "kernelspec": {
      "name": "python3",
      "display_name": "Python 3"
    }
  },
  "cells": [
    {
      "cell_type": "code",
      "metadata": {
        "id": "t3DMeYKpw91I",
        "colab_type": "code",
        "colab": {}
      },
      "source": [
        "import time\n",
        "import numpy as np\n",
        "from scipy.integrate import solve_ivp\n"
      ],
      "execution_count": 0,
      "outputs": []
    },
    {
      "cell_type": "code",
      "metadata": {
        "id": "yRq-wz-82Qtm",
        "colab_type": "code",
        "colab": {}
      },
      "source": [
        "class Lorenz(object):\n",
        "\n",
        "    def __init__(self, sigma=10., beta=8 / 3., rho=28., **kwargs):\n",
        "        self.sigma = float(sigma)\n",
        "        self.beta = float(beta)\n",
        "        self.rho = float(rho)\n",
        "\n",
        "    def __call__(self, t, x):\n",
        "        \"\"\" x here is [x, y, z] \"\"\"\n",
        "        dxdt=  self.sigma * ( x[1] - x[0])\n",
        "        dydt= x[0] * (self.rho- x[2] ) - x[1]\n",
        "        dzdt= x[0]*x[1]-self.beta*x[2]\n",
        "        return np.array([dxdt,dydt,dzdt   ])"
      ],
      "execution_count": 0,
      "outputs": []
    },
    {
      "cell_type": "code",
      "metadata": {
        "id": "p_gBne4Z2hL5",
        "colab_type": "code",
        "colab": {
          "base_uri": "https://localhost:8080/",
          "height": 34
        },
        "outputId": "f7d0c307-c9b8-4702-ace8-429f25ddf661"
      },
      "source": [
        "f = Lorenz()\n",
        "start_time = time.time()\n",
        "sol = solve_ivp(fun=f, t_span=[tstart, tend], y0=x0, t_eval=ts)\n",
        "integration_time_np= time.time() - start_time\n",
        "print(\"processing time (numpy) %.5f\" % integration_time_np)\n",
        "\n",
        "t_lo = sol['t']\n",
        "x_lo = sol['y']"
      ],
      "execution_count": 28,
      "outputs": [
        {
          "output_type": "stream",
          "text": [
            "processing time (numpy) 0.36280\n"
          ],
          "name": "stdout"
        }
      ]
    },
    {
      "cell_type": "code",
      "metadata": {
        "id": "UiPFnQnu3muT",
        "colab_type": "code",
        "colab": {}
      },
      "source": [
        ""
      ],
      "execution_count": 0,
      "outputs": []
    }
  ]
}