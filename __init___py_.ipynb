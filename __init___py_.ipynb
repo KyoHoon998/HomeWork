{
  "nbformat": 4,
  "nbformat_minor": 0,
  "metadata": {
    "colab": {
      "name": "__init__.py .ipynb",
      "provenance": []
    },
    "kernelspec": {
      "name": "python3",
      "display_name": "Python 3"
    }
  },
  "cells": [
    {
      "cell_type": "markdown",
      "metadata": {
        "id": "vBs-dnflS6rF",
        "colab_type": "text"
      },
      "source": [
        "# 패키지에서 init 의 역할\n",
        "\n",
        "패키지에서 `__init__.py` 파일의 역할은 해당 디렉토리가 패키지의 일부라는 것을 알려주는 파일이다. `__init__.py` 파일은 내용을 비워둘 수 있다.<br>그러나 `__init__.py` 파일에 내용을 입력하는 경우가 있는데, 이는 from pakage import `* ` 구문을 사용하여 패키지의 모듈을 사용할때 이다. 이때 `__init__.py` 파일에 `__all__` 변수를 지정해준 후, 위의 구문으로 import 할 수 있는 모듈을 지정해 주어야한다. (그렇지 않으면 앞에 제시된 구문으로 해당 패키지의 어떤 모듈도 import 해올 수 없다.)"
      ]
    }
  ]
}