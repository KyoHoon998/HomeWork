{
  "nbformat": 4,
  "nbformat_minor": 0,
  "metadata": {
    "colab": {
      "name": "Untitled11.ipynb",
      "provenance": []
    },
    "kernelspec": {
      "name": "python3",
      "display_name": "Python 3"
    }
  },
  "cells": [
    {
      "cell_type": "code",
      "metadata": {
        "id": "_s8b0WX-4JHW",
        "colab_type": "code",
        "colab": {}
      },
      "source": [
        "\"Q1. 주어진 자연수가 홀수인지 짝수인지 판별해 주는 함수(is_odd)를 작성해 보자.\"\n",
        "\n",
        "\n",
        "def is_odd(number):\n",
        "     if number % 2 == 1:   \n",
        "         return True\n",
        "     else:\n",
        "         return False\n"
      ],
      "execution_count": 0,
      "outputs": []
    },
    {
      "cell_type": "code",
      "metadata": {
        "id": "tyl__Ek24bwY",
        "colab_type": "code",
        "colab": {}
      },
      "source": [
        "\"Q2. 입력으로 들어오는 모든 수의 평균 값을 계산해 주는 함수를 작성해 보자.\"\n",
        "\n",
        "def avg_numbers(*args):   \n",
        "     result = 0\n",
        "     for i in args:\n",
        "         result += i\n",
        "     return result / len(args)"
      ],
      "execution_count": 0,
      "outputs": []
    },
    {
      "cell_type": "code",
      "metadata": {
        "id": "JZoiTsZ44uXl",
        "colab_type": "code",
        "colab": {
          "base_uri": "https://localhost:8080/",
          "height": 70
        },
        "outputId": "d8513025-a343-426b-cfdf-cb610e0781cc"
      },
      "source": [
        "\"Q3. 3과 6을 입력했을 때 9가 아닌 36이라는 결괏값을 돌려주었다. 이 프로그램의 오류를 수정해 보자.\"\n",
        "\n",
        "input1 = input(\"첫 번째 숫자를 입력하세요:\")\n",
        "input2 = input(\"두 번째 숫자를 입력하세요:\")\n",
        "\n",
        "total = int(input1) + int(input2)      \n",
        "print(\"두수의 합은 %s 입니다\" % total)"
      ],
      "execution_count": 6,
      "outputs": [
        {
          "output_type": "stream",
          "text": [
            "첫 번째 숫자를 입력하세요:3\n",
            "두 번째 숫자를 입력하세요:6\n",
            "두수의 합은 9 입니다\n"
          ],
          "name": "stdout"
        }
      ]
    },
    {
      "cell_type": "code",
      "metadata": {
        "id": "AbmbkP5U42RI",
        "colab_type": "code",
        "colab": {
          "base_uri": "https://localhost:8080/",
          "height": 87
        },
        "outputId": "875d161d-989d-41c9-eabc-cd9e8696e6e9"
      },
      "source": [
        "\"Q4. 다음 중 출력 결과가 다른 것 한 개를 고르시오.\"\n",
        "\n",
        "print(\"you\" \"need\" \"python\")\n",
        "\n",
        "print(\"you\"+\"need\"+\"python\")\n",
        "\n",
        "print(\"you\", \"need\", \"python\")\n",
        "\n",
        "print(\"\".join([\"you\", \"need\", \"python\"]))\n"
      ],
      "execution_count": 9,
      "outputs": [
        {
          "output_type": "stream",
          "text": [
            "youneedpython\n",
            "youneedpython\n",
            "you need python\n",
            "youneedpython\n"
          ],
          "name": "stdout"
        }
      ]
    },
    {
      "cell_type": "code",
      "metadata": {
        "id": "E2nHOD2l5E1f",
        "colab_type": "code",
        "colab": {
          "base_uri": "https://localhost:8080/",
          "height": 34
        },
        "outputId": "d9e48125-2d0e-4c43-99bc-e7dae80d39f9"
      },
      "source": [
        "' Q5. 이 프로그램은 우리가 예상한 \"Life is too short\" 라는 문장을 출력하지 않는다. 우리가 예상한 값을 출력할 수 있도록 프로그램을 수정해 보자.'\n",
        "\n",
        "f1 = open(\"test.txt\", 'w')\n",
        "f1.write(\"Life is too short!\")\n",
        "f1.close()\n",
        "\n",
        "f2 = open(\"test.txt\", 'r')\n",
        "print(f2.read())\n",
        "f2.close()"
      ],
      "execution_count": 12,
      "outputs": [
        {
          "output_type": "stream",
          "text": [
            "Life is too short!\n"
          ],
          "name": "stdout"
        }
      ]
    },
    {
      "cell_type": "code",
      "metadata": {
        "id": "xN4gv8az5aNi",
        "colab_type": "code",
        "colab": {
          "base_uri": "https://localhost:8080/",
          "height": 34
        },
        "outputId": "e1e75a12-3337-49cc-c32c-12331ba0fd87"
      },
      "source": [
        "'Q6. 사용자의 입력을 파일(test.txt)에 저장하는 프로그램을 작성해 보자.'\n",
        "\n",
        "user_input = input(\"저장할 내용을 입력하세요:\")\n",
        "f = open('test.txt', 'a')   \n",
        "f.write(user_input)\n",
        "f.write(\"\\n\")               \n",
        "f.close()"
      ],
      "execution_count": 13,
      "outputs": [
        {
          "output_type": "stream",
          "text": [
            "저장할 내용을 입력하세요: 과제중\n"
          ],
          "name": "stdout"
        }
      ]
    },
    {
      "cell_type": "code",
      "metadata": {
        "id": "SpHPJWo-5orP",
        "colab_type": "code",
        "colab": {}
      },
      "source": [
        "'Q7. 다음과 같은 내용을 지닌 파일 test.txt가 있다. 이 파일의 내용 중 \"java\"라는 문자열을 \"python\"으로 바꾸어서 저장해 보자.'\n",
        "\n",
        "f = open('test.txt', 'r')\n",
        "body = f.read()\n",
        "f.close()\n",
        "\n",
        "body = body.replace('java', 'python')\n",
        "\n",
        "f = open('test.txt', 'w')\n",
        "f.write(body)\n",
        "f.close()"
      ],
      "execution_count": 0,
      "outputs": []
    },
    {
      "cell_type": "code",
      "metadata": {
        "id": "gQC81iQ75xUL",
        "colab_type": "code",
        "colab": {}
      },
      "source": [
        ""
      ],
      "execution_count": 0,
      "outputs": []
    }
  ]
}