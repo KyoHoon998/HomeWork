{
  "nbformat": 4,
  "nbformat_minor": 0,
  "metadata": {
    "colab": {
      "name": "2장 연습문제.ipynb",
      "provenance": []
    },
    "kernelspec": {
      "name": "python3",
      "display_name": "Python 3"
    }
  },
  "cells": [
    {
      "cell_type": "code",
      "metadata": {
        "id": "oz5Y279TYko8",
        "colab_type": "code",
        "outputId": "394164bf-488b-40d2-ab90-a9cf8c4cd184",
        "colab": {
          "base_uri": "https://localhost:8080/",
          "height": 34
        }
      },
      "source": [
        "\"14108307 구교훈 2장\"\n",
        "\n",
        "\n",
        "\"Q1. 홍길동 씨의 과목별 점수는 다음과 같다. 홍길동 씨의 평균 점수를 구해보자.\"\n",
        "\n",
        "a = 80 \n",
        "b = 75\n",
        "c = 55\n",
        "\n",
        "(a+b+c) /3"
      ],
      "execution_count": 0,
      "outputs": [
        {
          "output_type": "execute_result",
          "data": {
            "text/plain": [
              "70.0"
            ]
          },
          "metadata": {
            "tags": []
          },
          "execution_count": 15
        }
      ]
    },
    {
      "cell_type": "code",
      "metadata": {
        "id": "MLxnHnczjkRE",
        "colab_type": "code",
        "outputId": "57bd5eab-99c0-44d3-9c36-44195fb989e2",
        "colab": {
          "base_uri": "https://localhost:8080/",
          "height": 34
        }
      },
      "source": [
        "\"Q2. 자연수 13이 홀수인지 짝수인지 판별할 수 있는 방법에 대해 말해보자\"\n",
        "\n",
        "bool(13%2) "
      ],
      "execution_count": 0,
      "outputs": [
        {
          "output_type": "execute_result",
          "data": {
            "text/plain": [
              "True"
            ]
          },
          "metadata": {
            "tags": []
          },
          "execution_count": 19
        }
      ]
    },
    {
      "cell_type": "code",
      "metadata": {
        "id": "xDycYDPUnvmN",
        "colab_type": "code",
        "outputId": "45daff79-dd12-4a9a-a281-c073c89571bb",
        "colab": {
          "base_uri": "https://localhost:8080/",
          "height": 52
        }
      },
      "source": [
        "\"Q3. \"\n",
        "\"홍길동 씨의 주민등록번호는 881120-1068234이다. 홍길동 씨의 주민등록번호를 연월일(YYYYMMDD) 부분과 그 뒤의 숫자 부분으로 나누어 출력해 보자.\"\n",
        "\n",
        "id = \"881120-1068234\"\n",
        "yyyymmdd = id[:6]\n",
        "num = id[7:]\n",
        "print(yyyymmdd)  \n",
        "print(num)       "
      ],
      "execution_count": 0,
      "outputs": [
        {
          "output_type": "stream",
          "text": [
            "881120\n",
            "1068234\n"
          ],
          "name": "stdout"
        }
      ]
    },
    {
      "cell_type": "code",
      "metadata": {
        "id": "hA4e5JzEoWbQ",
        "colab_type": "code",
        "outputId": "ec6a58f0-7455-400b-cec8-6d1f1d39d5c6",
        "colab": {
          "base_uri": "https://localhost:8080/",
          "height": 34
        }
      },
      "source": [
        "\"Q4\"\n",
        "\"주민등록번호 뒷자리의 맨 첫 번째 숫자는 성별을 나타낸다. 주민등록번호에서 성별을 나타내는 숫자를 출력해 보자.\"\n",
        "\n",
        "pin = \"881120-1068234\"\n",
        "print(pin[7])\n"
      ],
      "execution_count": 0,
      "outputs": [
        {
          "output_type": "stream",
          "text": [
            "1\n"
          ],
          "name": "stdout"
        }
      ]
    },
    {
      "cell_type": "code",
      "metadata": {
        "id": "TdYA-KaOopYE",
        "colab_type": "code",
        "outputId": "54b0792a-e660-454f-d362-4afadbb1085e",
        "colab": {
          "base_uri": "https://localhost:8080/",
          "height": 34
        }
      },
      "source": [
        "\"Q5. 다음과 같은 문자열 a:b:c:d가 있다. 문자열의 replace 함수를 사용하여 a#b#c#d로 바꿔서 출력해 보자.\"\n",
        "\n",
        "a = \"a:b:c:d\"\n",
        "b = a.replace(\":\", \"#\")\n",
        "print(b)"
      ],
      "execution_count": 0,
      "outputs": [
        {
          "output_type": "stream",
          "text": [
            "a#b#c#d\n"
          ],
          "name": "stdout"
        }
      ]
    },
    {
      "cell_type": "code",
      "metadata": {
        "id": "tnCX7R9ko0lM",
        "colab_type": "code",
        "outputId": "043d130c-83a6-469c-86ce-39cfa206b07d",
        "colab": {
          "base_uri": "https://localhost:8080/",
          "height": 34
        }
      },
      "source": [
        "\"Q6.[1, 3, 5, 4, 2] 리스트를 [5, 4, 3, 2, 1]로 만들어 보자.\"\n",
        "\n",
        "a = [1, 3, 5, 4, 2]\n",
        "a.sort( )\n",
        "a.reverse( )\n",
        "print(a)"
      ],
      "execution_count": 0,
      "outputs": [
        {
          "output_type": "stream",
          "text": [
            "[5, 4, 3, 2, 1]\n"
          ],
          "name": "stdout"
        }
      ]
    },
    {
      "cell_type": "code",
      "metadata": {
        "id": "QnEkCvt4o-QU",
        "colab_type": "code",
        "outputId": "8fdfcb3f-e6ae-4983-f140-8e738f09eef2",
        "colab": {
          "base_uri": "https://localhost:8080/",
          "height": 34
        }
      },
      "source": [
        "\"Q7.['Life', 'is', 'too', 'short'] 리스트를 Life is too short 문자열로 만들어 출력해 보자. \"\n",
        "\n",
        "a = ['Life', 'is', 'too', 'short']\n",
        "result = \" \".join(a)\n",
        "print(result)"
      ],
      "execution_count": 0,
      "outputs": [
        {
          "output_type": "stream",
          "text": [
            "Life is too short\n"
          ],
          "name": "stdout"
        }
      ]
    },
    {
      "cell_type": "code",
      "metadata": {
        "id": "HBKmiucepFAI",
        "colab_type": "code",
        "outputId": "0fd83d32-5d43-4957-da7b-bbb6e2e0eda5",
        "colab": {
          "base_uri": "https://localhost:8080/",
          "height": 34
        }
      },
      "source": [
        "\"Q8.(1,2,3)이라는 튜플에 4라는 값을 추가하여 (1,2,3,4)처럼 만들어 출력해 보자. \"\n",
        "a = (1, 2, 3)\n",
        "a = a + (4,)\n",
        "print(a)"
      ],
      "execution_count": 0,
      "outputs": [
        {
          "output_type": "stream",
          "text": [
            "(1, 2, 3, 4)\n"
          ],
          "name": "stdout"
        }
      ]
    },
    {
      "cell_type": "code",
      "metadata": {
        "id": "y8vDxKBHpOqM",
        "colab_type": "code",
        "outputId": "6db71aa7-f86b-4276-a8f2-11bc46c93fab",
        "colab": {
          "base_uri": "https://localhost:8080/",
          "height": 34
        }
      },
      "source": [
        "\"Q9 다음과 같은 딕셔너리 a가 있다. 다음 중 오류가 발생하는 경우는 어떤 경우인가? 그리고 그 이유를 설명해 보자.\"\n",
        "a = dict()\n",
        "\n",
        "\n",
        "\"3. 딕셔너리의 Key로 변하는 값인 리스트를 사용 할 수 없다.\""
      ],
      "execution_count": 0,
      "outputs": [
        {
          "output_type": "execute_result",
          "data": {
            "text/plain": [
              "'3. 딕셔너리의 Key로 변하는 값인 리스트를 사용 할 수 없다.'"
            ]
          },
          "metadata": {
            "tags": []
          },
          "execution_count": 28
        }
      ]
    },
    {
      "cell_type": "code",
      "metadata": {
        "id": "JEfb2UV2p2Bk",
        "colab_type": "code",
        "outputId": "a5bc13e3-dc84-4d59-c8f8-09895c0f805b",
        "colab": {
          "base_uri": "https://localhost:8080/",
          "height": 52
        }
      },
      "source": [
        "\"Q10 딕셔너리 a에서 'B'에 해당되는 값을 추출해 보자.\"\n",
        "a = {'A':90, 'B':80, 'C':70}\n",
        "  \n",
        "result = a.pop('B')\n",
        "print(a)            \n",
        "print(result)"
      ],
      "execution_count": 0,
      "outputs": [
        {
          "output_type": "stream",
          "text": [
            "{'A': 90, 'C': 70}\n",
            "80\n"
          ],
          "name": "stdout"
        }
      ]
    },
    {
      "cell_type": "code",
      "metadata": {
        "id": "aCKm3CK5qAYQ",
        "colab_type": "code",
        "outputId": "c8ea9c00-08b3-4133-de3d-f6e5fc81584d",
        "colab": {
          "base_uri": "https://localhost:8080/",
          "height": 34
        }
      },
      "source": [
        "\"Q11 a 리스트에서 중복된 숫자들을 제거해 보자.\"\n",
        "a = [1, 1, 1, 2, 2, 3, 3, 3, 4, 4, 5]\n",
        "a = set(a)     \n",
        "print(a) "
      ],
      "execution_count": 0,
      "outputs": [
        {
          "output_type": "stream",
          "text": [
            "{1, 2, 3, 4, 5}\n"
          ],
          "name": "stdout"
        }
      ]
    },
    {
      "cell_type": "code",
      "metadata": {
        "id": "87owpjMEqWyx",
        "colab_type": "code",
        "outputId": "986fdc7e-9fce-42b6-ca26-579c7cb4eda8",
        "colab": {
          "base_uri": "https://localhost:8080/",
          "height": 52
        }
      },
      "source": [
        "\"Q12 파이썬은 다음처럼 동일한 값에 여러 개의 변수를 선언할 수 있다. 다음과 같이 a, b 변수를 선언한 후 a의 두 번째 요솟값을 변경하면 b 값은 어떻게 될까? 그리고 이런 결과가 오는 이유에 대해 설명해 보자.\"\n",
        "\n",
        "a = b = [1, 2, 3]\n",
        "a[1] = 4\n",
        "print(b)\n",
        "\n",
        "\"[1,4,3]이 출력 될 것. 이유는 a와 b 가 같은 주소를 사용 하기 떄문이다.\""
      ],
      "execution_count": 0,
      "outputs": [
        {
          "output_type": "stream",
          "text": [
            "[1, 4, 3]\n"
          ],
          "name": "stdout"
        },
        {
          "output_type": "execute_result",
          "data": {
            "text/plain": [
              "'[1,4,3]이 출력 될 것. 이유는 a와 b 가 같은 주소를 사용 하기 떄문이다.'"
            ]
          },
          "metadata": {
            "tags": []
          },
          "execution_count": 34
        }
      ]
    },
    {
      "cell_type": "code",
      "metadata": {
        "id": "e4h1UyHGqykE",
        "colab_type": "code",
        "colab": {}
      },
      "source": [
        ""
      ],
      "execution_count": 0,
      "outputs": []
    }
  ]
}