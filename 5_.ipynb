{
  "nbformat": 4,
  "nbformat_minor": 0,
  "metadata": {
    "colab": {
      "name": "5 .ipynb",
      "provenance": []
    },
    "kernelspec": {
      "name": "python3",
      "display_name": "Python 3"
    }
  },
  "cells": [
    {
      "cell_type": "markdown",
      "metadata": {
        "id": "GXPaCSdzVsKf",
        "colab_type": "text"
      },
      "source": [
        "# 5장 연습문제\n",
        "\n",
        "# Q1.\n"
      ]
    },
    {
      "cell_type": "code",
      "metadata": {
        "id": "Cy-3npCqV7KY",
        "colab_type": "code",
        "colab": {}
      },
      "source": [
        "class Calculator:\n",
        "    def __init__(self):\n",
        "        self.value = 0\n",
        "\n",
        "    def add(self, val):\n",
        "        self.value += val\n",
        "        \n",
        "class UpgradeCalculator(Calculator):\n",
        "    def minus(self, val):\n",
        "        self.value -= val"
      ],
      "execution_count": 0,
      "outputs": []
    },
    {
      "cell_type": "code",
      "metadata": {
        "id": "Ft6yqca1WWJl",
        "colab_type": "code",
        "colab": {
          "base_uri": "https://localhost:8080/",
          "height": 34
        },
        "outputId": "623f2d8a-e39b-4340-d621-e92f10c729f3"
      },
      "source": [
        "cal = UpgradeCalculator()\n",
        "cal.add(10)\n",
        "cal.minus(7)\n",
        "\n",
        "print(cal.value)"
      ],
      "execution_count": 5,
      "outputs": [
        {
          "output_type": "stream",
          "text": [
            "3\n"
          ],
          "name": "stdout"
        }
      ]
    },
    {
      "cell_type": "markdown",
      "metadata": {
        "id": "3xO9WejYWnVg",
        "colab_type": "text"
      },
      "source": [
        "# Q2."
      ]
    },
    {
      "cell_type": "code",
      "metadata": {
        "id": "gf63J2K4W5-P",
        "colab_type": "code",
        "colab": {}
      },
      "source": [
        "class Calculator:\n",
        "    def __init__(self):\n",
        "        self.value = 0\n",
        "\n",
        "    def add(self, val):\n",
        "        self.value += val\n",
        "        \n",
        "        \n",
        "class MaxLimitCalculator(Calculator):\n",
        "  \n",
        "    def add(self, val):\n",
        "        self.value += val\n",
        "        if self.value > 100:\n",
        "            self.value = 100"
      ],
      "execution_count": 0,
      "outputs": []
    },
    {
      "cell_type": "code",
      "metadata": {
        "id": "ymNle8AAYAKo",
        "colab_type": "code",
        "colab": {
          "base_uri": "https://localhost:8080/",
          "height": 34
        },
        "outputId": "5e482e9a-320c-4664-d6b0-6f6bdc771ba2"
      },
      "source": [
        "cal = MaxLimitCalculator()\n",
        "cal.add(50) \n",
        "cal.add(60) \n",
        "\n",
        "print(cal.value)"
      ],
      "execution_count": 11,
      "outputs": [
        {
          "output_type": "stream",
          "text": [
            "100\n"
          ],
          "name": "stdout"
        }
      ]
    },
    {
      "cell_type": "markdown",
      "metadata": {
        "id": "rZX4GCM0YJF7",
        "colab_type": "text"
      },
      "source": [
        "# Q3."
      ]
    },
    {
      "cell_type": "code",
      "metadata": {
        "id": "YTpX9yc8YLDa",
        "colab_type": "code",
        "colab": {
          "base_uri": "https://localhost:8080/",
          "height": 34
        },
        "outputId": "d0fd9d05-e89b-42ff-c270-a1dd0c311fe3"
      },
      "source": [
        "all([1, 2, abs(-3)-3])"
      ],
      "execution_count": 12,
      "outputs": [
        {
          "output_type": "execute_result",
          "data": {
            "text/plain": [
              "False"
            ]
          },
          "metadata": {
            "tags": []
          },
          "execution_count": 12
        }
      ]
    },
    {
      "cell_type": "code",
      "metadata": {
        "id": "gIVmQdlQYO_8",
        "colab_type": "code",
        "colab": {
          "base_uri": "https://localhost:8080/",
          "height": 34
        },
        "outputId": "96981f4e-1193-4e64-f19e-7f9635b45a16"
      },
      "source": [
        " chr(ord('a')) == 'a'"
      ],
      "execution_count": 13,
      "outputs": [
        {
          "output_type": "execute_result",
          "data": {
            "text/plain": [
              "True"
            ]
          },
          "metadata": {
            "tags": []
          },
          "execution_count": 13
        }
      ]
    },
    {
      "cell_type": "markdown",
      "metadata": {
        "id": "-omsbk4AYffj",
        "colab_type": "text"
      },
      "source": [
        "# Q4."
      ]
    },
    {
      "cell_type": "code",
      "metadata": {
        "id": "XNzGJnOwYhrb",
        "colab_type": "code",
        "colab": {
          "base_uri": "https://localhost:8080/",
          "height": 34
        },
        "outputId": "0badb342-8bef-4f19-ec1e-1f10c623e560"
      },
      "source": [
        "a = [1, -2, 3, -5, 8, -3]\n",
        "\n",
        "list(filter(lambda x:x>0, a))"
      ],
      "execution_count": 15,
      "outputs": [
        {
          "output_type": "execute_result",
          "data": {
            "text/plain": [
              "[1, 3, 8]"
            ]
          },
          "metadata": {
            "tags": []
          },
          "execution_count": 15
        }
      ]
    },
    {
      "cell_type": "markdown",
      "metadata": {
        "id": "z2PWG2lEZmZ6",
        "colab_type": "text"
      },
      "source": [
        "# Q5."
      ]
    },
    {
      "cell_type": "code",
      "metadata": {
        "id": "Yyyhg23EZobS",
        "colab_type": "code",
        "colab": {
          "base_uri": "https://localhost:8080/",
          "height": 34
        },
        "outputId": "a2ed78d1-c51d-4695-ce80-d02dbb083da1"
      },
      "source": [
        "int(0xea)"
      ],
      "execution_count": 17,
      "outputs": [
        {
          "output_type": "execute_result",
          "data": {
            "text/plain": [
              "234"
            ]
          },
          "metadata": {
            "tags": []
          },
          "execution_count": 17
        }
      ]
    },
    {
      "cell_type": "markdown",
      "metadata": {
        "id": "aXnL-3W9Z7iq",
        "colab_type": "text"
      },
      "source": [
        "# Q6."
      ]
    },
    {
      "cell_type": "code",
      "metadata": {
        "id": "RNpciUUpZ8eV",
        "colab_type": "code",
        "colab": {
          "base_uri": "https://localhost:8080/",
          "height": 34
        },
        "outputId": "801e90ad-9ab0-41e9-bed6-fff565e77ac0"
      },
      "source": [
        "a = [1, 2, 3, 4]\n",
        "list(map(lambda x : x*3 , a))"
      ],
      "execution_count": 20,
      "outputs": [
        {
          "output_type": "execute_result",
          "data": {
            "text/plain": [
              "[3, 6, 9, 12]"
            ]
          },
          "metadata": {
            "tags": []
          },
          "execution_count": 20
        }
      ]
    },
    {
      "cell_type": "markdown",
      "metadata": {
        "id": "eCzV-4iAaL5_",
        "colab_type": "text"
      },
      "source": [
        "# Q7."
      ]
    },
    {
      "cell_type": "code",
      "metadata": {
        "id": "LLixyxZ9aDhl",
        "colab_type": "code",
        "colab": {
          "base_uri": "https://localhost:8080/",
          "height": 34
        },
        "outputId": "b1d0c57e-fb8e-4588-8ca8-5fce36b2b2cd"
      },
      "source": [
        "a = [-8, 2, 7, 5, -3, 5, 0, 1]\n",
        "\n",
        "min(a) + max(a)"
      ],
      "execution_count": 21,
      "outputs": [
        {
          "output_type": "execute_result",
          "data": {
            "text/plain": [
              "-1"
            ]
          },
          "metadata": {
            "tags": []
          },
          "execution_count": 21
        }
      ]
    },
    {
      "cell_type": "markdown",
      "metadata": {
        "id": "NtsMgGeRakbQ",
        "colab_type": "text"
      },
      "source": [
        "# Q8."
      ]
    },
    {
      "cell_type": "code",
      "metadata": {
        "id": "rPp0HZywaQau",
        "colab_type": "code",
        "colab": {
          "base_uri": "https://localhost:8080/",
          "height": 34
        },
        "outputId": "61ee23c4-c19b-4eff-a57f-eb022e6d0bfe"
      },
      "source": [
        "round(5.666666666666667, 4)"
      ],
      "execution_count": 22,
      "outputs": [
        {
          "output_type": "execute_result",
          "data": {
            "text/plain": [
              "5.6667"
            ]
          },
          "metadata": {
            "tags": []
          },
          "execution_count": 22
        }
      ]
    },
    {
      "cell_type": "markdown",
      "metadata": {
        "id": "6i9gn9rZaqxZ",
        "colab_type": "text"
      },
      "source": [
        "# Q9."
      ]
    },
    {
      "cell_type": "code",
      "metadata": {
        "id": "GgqYq6HcanHV",
        "colab_type": "code",
        "colab": {
          "base_uri": "https://localhost:8080/",
          "height": 34
        },
        "outputId": "39a7bd5c-b52c-4fd2-cce1-cdcc9c94577b"
      },
      "source": [
        "%%writefile myargv.py\n",
        "\n",
        "import sys as s\n",
        "\n",
        "numbers = s.argv[1:] \n",
        "\n",
        "result = 0\n",
        "\n",
        "for number in numbers:\n",
        "    result += int(number)\n",
        "print(result)"
      ],
      "execution_count": 28,
      "outputs": [
        {
          "output_type": "stream",
          "text": [
            "Writing myargv.py\n"
          ],
          "name": "stdout"
        }
      ]
    },
    {
      "cell_type": "markdown",
      "metadata": {
        "id": "a3wruPY4dFmr",
        "colab_type": "text"
      },
      "source": [
        "# Q10."
      ]
    },
    {
      "cell_type": "code",
      "metadata": {
        "id": "Gq5_7nZNgxFu",
        "colab_type": "code",
        "colab": {
          "base_uri": "https://localhost:8080/",
          "height": 34
        },
        "outputId": "4637bbbb-113d-49c4-a6b7-117e028ec0f1"
      },
      "source": [
        "import os\n",
        "os.getcwd()"
      ],
      "execution_count": 44,
      "outputs": [
        {
          "output_type": "execute_result",
          "data": {
            "text/plain": [
              "'/content'"
            ]
          },
          "metadata": {
            "tags": []
          },
          "execution_count": 44
        }
      ]
    },
    {
      "cell_type": "code",
      "metadata": {
        "id": "5JTgS6B-hNEE",
        "colab_type": "code",
        "colab": {}
      },
      "source": [
        "os.mkdir(\"c:\" + \"/\" + \"doit\" + \"/\" )"
      ],
      "execution_count": 0,
      "outputs": []
    },
    {
      "cell_type": "code",
      "metadata": {
        "id": "vIDOdTB5a6ph",
        "colab_type": "code",
        "colab": {
          "base_uri": "https://localhost:8080/",
          "height": 34
        },
        "outputId": "295096c9-453e-4e0b-a049-db3d0df06894"
      },
      "source": [
        "import os\n",
        "\n",
        "os.chdir(\"c:/doit\")\n",
        "result = os.popen(\"dir\")\n",
        "print(result.read())"
      ],
      "execution_count": 51,
      "outputs": [
        {
          "output_type": "stream",
          "text": [
            "\n"
          ],
          "name": "stdout"
        }
      ]
    },
    {
      "cell_type": "markdown",
      "metadata": {
        "id": "WwfnxumhhhAw",
        "colab_type": "text"
      },
      "source": [
        "# Q11."
      ]
    },
    {
      "cell_type": "code",
      "metadata": {
        "id": "FfhcMOF2dUst",
        "colab_type": "code",
        "colab": {
          "base_uri": "https://localhost:8080/",
          "height": 34
        },
        "outputId": "804b2ff7-c0aa-4eee-9255-226136f13139"
      },
      "source": [
        "import glob\n",
        "glob.glob(\"c:/doit/*.py\")\n"
      ],
      "execution_count": 53,
      "outputs": [
        {
          "output_type": "execute_result",
          "data": {
            "text/plain": [
              "[]"
            ]
          },
          "metadata": {
            "tags": []
          },
          "execution_count": 53
        }
      ]
    },
    {
      "cell_type": "code",
      "metadata": {
        "id": "AAbRIomMhk8O",
        "colab_type": "code",
        "colab": {
          "base_uri": "https://localhost:8080/",
          "height": 34
        },
        "outputId": "b32aa4e3-f29d-495f-c2c8-c6dc74dac30c"
      },
      "source": [
        "import time\n",
        "time.strftime(\"%Y/%m/%d %H:%M:%S\")  \n"
      ],
      "execution_count": 55,
      "outputs": [
        {
          "output_type": "execute_result",
          "data": {
            "text/plain": [
              "'2019/10/09 12:39:38'"
            ]
          },
          "metadata": {
            "tags": []
          },
          "execution_count": 55
        }
      ]
    },
    {
      "cell_type": "code",
      "metadata": {
        "id": "MJKoScrchyNb",
        "colab_type": "code",
        "colab": {
          "base_uri": "https://localhost:8080/",
          "height": 34
        },
        "outputId": "fa8cb32e-184b-4dee-cd7d-7a1d756b0a93"
      },
      "source": [
        "import random\n",
        "\n",
        "result = []\n",
        "while len(result) < 6:\n",
        "    num = random.randint(1, 45) \n",
        "    if num not in result:\n",
        "        result.append(num)\n",
        "\n",
        "print(result)"
      ],
      "execution_count": 57,
      "outputs": [
        {
          "output_type": "stream",
          "text": [
            "[23, 4, 8, 27, 37, 14]\n"
          ],
          "name": "stdout"
        }
      ]
    },
    {
      "cell_type": "code",
      "metadata": {
        "id": "xt0I_l2kh5hj",
        "colab_type": "code",
        "colab": {}
      },
      "source": [
        ""
      ],
      "execution_count": 0,
      "outputs": []
    }
  ]
}