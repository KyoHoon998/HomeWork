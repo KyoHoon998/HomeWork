{
  "nbformat": 4,
  "nbformat_minor": 0,
  "metadata": {
    "colab": {
      "name": "Untitled20.ipynb",
      "provenance": []
    },
    "kernelspec": {
      "name": "python3",
      "display_name": "Python 3"
    }
  },
  "cells": [
    {
      "cell_type": "code",
      "metadata": {
        "id": "Aydc8BKJ4EAY",
        "colab_type": "code",
        "colab": {}
      },
      "source": [
        "import decimal\n",
        "\n",
        "decimal.getcontext().prec=7"
      ],
      "execution_count": 0,
      "outputs": []
    },
    {
      "cell_type": "code",
      "metadata": {
        "id": "hvQtnNA878u_",
        "colab_type": "code",
        "colab": {}
      },
      "source": [
        "def decimal_to_r_notation(number,r):\n",
        "  \n",
        "  integer_part_list=[]\n",
        "  number_front = int(number)\n",
        "  number_rear = number - number_front\n",
        "  \n",
        "  while True:\n",
        "    integer_part=int(number_rear*r)\n",
        "    decimal_part=number_rear*r-integer_part\n",
        "    integer_part_list.append(integer_part)\n",
        "    if decimal_part==0:break\n",
        "    \n",
        "    else:\n",
        "      number=decimal_part\n",
        "   \n",
        "  result = \"\"\n",
        "    \n",
        "  for digit in integer_part_list:\n",
        "      \n",
        "    result += str(digit)\n",
        "      \n",
        "  return \"0\"+ \".\" +result\n",
        "\n",
        "decimal.Decimal(decimal_to_r_notation(0.1, 2))"
      ],
      "execution_count": 0,
      "outputs": []
    },
    {
      "cell_type": "code",
      "metadata": {
        "id": "wEUDggww8wU_",
        "colab_type": "code",
        "colab": {}
      },
      "source": [
        ""
      ],
      "execution_count": 0,
      "outputs": []
    }
  ]
}