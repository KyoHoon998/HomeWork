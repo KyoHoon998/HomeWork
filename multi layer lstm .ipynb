{
  "nbformat": 4,
  "nbformat_minor": 0,
  "metadata": {
    "colab": {
      "name": "Untitled42.ipynb",
      "provenance": [],
      "include_colab_link": true
    },
    "kernelspec": {
      "name": "python3",
      "display_name": "Python 3"
    }
  },
  "cells": [
    {
      "cell_type": "markdown",
      "metadata": {
        "id": "view-in-github",
        "colab_type": "text"
      },
      "source": [
        "<a href=\"https://colab.research.google.com/github/KyoHoon998/HomeWork/blob/master/multi%20layer%20lstm%20.ipynb\" target=\"_parent\"><img src=\"https://colab.research.google.com/assets/colab-badge.svg\" alt=\"Open In Colab\"/></a>"
      ]
    },
    {
      "cell_type": "code",
      "metadata": {
        "id": "twAauTOutxod",
        "colab_type": "code",
        "colab": {
          "base_uri": "https://localhost:8080/",
          "height": 104
        },
        "outputId": "1ab133ce-bde1-4594-d8c1-5d5bc8498d64"
      },
      "source": [
        "try:\n",
        "\n",
        "    %tensorflow_version 2.x  # %tensorflow_version only exists in Colab\n",
        "\n",
        "except Exception:\n",
        "\n",
        "    pass"
      ],
      "execution_count": 3,
      "outputs": [
        {
          "output_type": "stream",
          "text": [
            "`%tensorflow_version` only switches the major version: `1.x` or `2.x`.\n",
            "You set: `2.x  # %tensorflow_version only exists in Colab`. This will be interpreted as: `2.x`.\n",
            "\n",
            "\n",
            "TensorFlow is already loaded. Please restart the runtime to change versions.\n"
          ],
          "name": "stdout"
        }
      ]
    },
    {
      "cell_type": "code",
      "metadata": {
        "id": "iVigyV59tfJ-",
        "colab_type": "code",
        "colab": {
          "base_uri": "https://localhost:8080/",
          "height": 313
        },
        "outputId": "983469f3-e1ba-4803-c41c-845bde1dd32b"
      },
      "source": [
        " from keras.models import Model\n",
        " from keras.layers import Input, Dense, LSTM\n",
        " import numpy as np\n",
        "\n",
        "\n",
        " x = np.array([[[1.], [2.], [3.], [4.], [5.]]])\n",
        " y = np.array([[6.]])\n",
        "\n",
        "\n",
        " xInput = Input(batch_shape=(None, 5, 1))\n",
        " xLstm_1 = LSTM(3, return_sequences=True)(xInput)\n",
        " xLstm_2 = LSTM(3)(xLstm_1)\n",
        " xOutput = Dense(1)(xLstm_2)\n",
        "\n",
        "\n",
        " model = Model(xInput, xOutput)\n",
        " model.compile(loss='mean_squared_error', optimizer='adam')\n",
        " print(model.summary())"
      ],
      "execution_count": 4,
      "outputs": [
        {
          "output_type": "stream",
          "text": [
            "Model: \"model_2\"\n",
            "_________________________________________________________________\n",
            "Layer (type)                 Output Shape              Param #   \n",
            "=================================================================\n",
            "input_2 (InputLayer)         (None, 5, 1)              0         \n",
            "_________________________________________________________________\n",
            "lstm_3 (LSTM)                (None, 5, 3)              60        \n",
            "_________________________________________________________________\n",
            "lstm_4 (LSTM)                (None, 3)                 84        \n",
            "_________________________________________________________________\n",
            "dense_2 (Dense)              (None, 1)                 4         \n",
            "=================================================================\n",
            "Total params: 148\n",
            "Trainable params: 148\n",
            "Non-trainable params: 0\n",
            "_________________________________________________________________\n",
            "None\n"
          ],
          "name": "stdout"
        }
      ]
    },
    {
      "cell_type": "code",
      "metadata": {
        "id": "oV25YlixtmN2",
        "colab_type": "code",
        "colab": {}
      },
      "source": [
        ""
      ],
      "execution_count": 0,
      "outputs": []
    }
  ]
}